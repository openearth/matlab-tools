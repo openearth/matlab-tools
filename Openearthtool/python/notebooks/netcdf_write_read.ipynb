{
 "metadata": {
  "name": "",
  "signature": "sha256:62236073697b9d6ded307d5b5d066ef0c2551f18cef8baf4363dddb1be481190"
 },
 "nbformat": 3,
 "nbformat_minor": 0,
 "worksheets": [
  {
   "cells": [
    {
     "cell_type": "heading",
     "level": 2,
     "metadata": {},
     "source": [
      "Import packages"
     ]
    },
    {
     "cell_type": "code",
     "collapsed": false,
     "input": [
      "from netCDF4 import Dataset\n",
      "import numpy as np"
     ],
     "language": "python",
     "metadata": {},
     "outputs": [],
     "prompt_number": 3
    },
    {
     "cell_type": "heading",
     "level": 2,
     "metadata": {},
     "source": [
      "Create demo netcdf file"
     ]
    },
    {
     "cell_type": "code",
     "collapsed": false,
     "input": [
      "try:\n",
      "    ds = Dataset('demo.nc', 'w')\n",
      "    ds.createDimension('time', 10)\n",
      "    times = ds.createVariable('time','f8',('time',))\n",
      "    times.units = 'seconds'\n",
      "    times[:] = np.arange(10)\n",
      "finally:\n",
      "    ds.close()"
     ],
     "language": "python",
     "metadata": {},
     "outputs": [],
     "prompt_number": 9
    },
    {
     "cell_type": "heading",
     "level": 2,
     "metadata": {},
     "source": [
      "Read demo netcdf file"
     ]
    },
    {
     "cell_type": "code",
     "collapsed": false,
     "input": [
      "ds = Dataset('demo.nc') # read mode is default\n",
      "print ds\n",
      "print ds.variables['time']\n",
      "print ds.variables['time'][:]\n",
      "ds.close()"
     ],
     "language": "python",
     "metadata": {},
     "outputs": [
      {
       "output_type": "stream",
       "stream": "stdout",
       "text": [
        "<type 'netCDF4.Dataset'>\n",
        "root group (NETCDF4 data model, file format HDF5):\n",
        "    dimensions(sizes): time(10)\n",
        "    variables(dimensions): float64 \u001b[4mtime\u001b[0m(time)\n",
        "    groups: \n",
        "\n",
        "<type 'netCDF4.Variable'>\n",
        "float64 time(time)\n",
        "    units: seconds\n",
        "unlimited dimensions: \n",
        "current shape = (10,)\n",
        "filling on, default _FillValue of 9.96920996839e+36 used\n",
        "\n",
        "[ 0.  1.  2.  3.  4.  5.  6.  7.  8.  9.]\n"
       ]
      }
     ],
     "prompt_number": 10
    },
    {
     "cell_type": "code",
     "collapsed": false,
     "input": [],
     "language": "python",
     "metadata": {},
     "outputs": []
    }
   ],
   "metadata": {}
  }
 ]
}