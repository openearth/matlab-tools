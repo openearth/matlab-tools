{
 "metadata": {
  "name": "jarkus_transect_validate"
 },
 "nbformat": 3,
 "nbformat_minor": 0,
 "worksheets": [
  {
   "cells": [
    {
     "cell_type": "code",
     "collapsed": false,
     "input": [
      "from netCDF4 import Dataset\n",
      "import numpy as np\n",
      "from jarkus.transects import Transects"
     ],
     "language": "python",
     "metadata": {},
     "outputs": [],
     "prompt_number": 32
    },
    {
     "cell_type": "code",
     "collapsed": false,
     "input": [
      "url0 = 'http://opendap.deltares.nl/thredds/dodsC/opendap/rijkswaterstaat/jarkus/profiles/transect.nc'\n",
      "url1 = 'http://dtvirt5.deltares.nl:8080/thredds/dodsC/opendap/rijkswaterstaat/jarkus/profiles/transect_r20150930.nc'\n",
      "\n",
      "def getdata(url, variables=[], tidx=None):\n",
      "    with Dataset(url) as ds:\n",
      "        data = {}\n",
      "        for var in variables:\n",
      "            if tidx is None:\n",
      "                data[var] = ds.variables[var][:]\n",
      "            else:\n",
      "                data[var] = ds.variables[var][tidx,]\n",
      "    return data"
     ],
     "language": "python",
     "metadata": {},
     "outputs": [],
     "prompt_number": 2
    },
    {
     "cell_type": "code",
     "collapsed": false,
     "input": [
      "getdata(url0, variables=['time'])"
     ],
     "language": "python",
     "metadata": {},
     "outputs": [
      {
       "output_type": "pyout",
       "prompt_number": 5,
       "text": [
        "{'time': array([ -1645.,  -1280.,   -915.,   -549.,   -184.,    181.,    546.,\n",
        "          912.,   1277.,   1642.,   2007.,   2373.,   2738.,   3103.,\n",
        "         3468.,   3834.,   4199.,   4564.,   4929.,   5295.,   5660.,\n",
        "         6025.,   6390.,   6756.,   7121.,   7486.,   7851.,   8217.,\n",
        "         8582.,   8947.,   9312.,   9678.,  10043.,  10408.,  10773.,\n",
        "        11139.,  11504.,  11869.,  12234.,  12600.,  12965.,  13330.,\n",
        "        13695.,  14061.,  14426.,  14791.,  15156.,  15522.,  15887.,\n",
        "        16252.,  16617.])}"
       ]
      }
     ],
     "prompt_number": 5
    },
    {
     "cell_type": "code",
     "collapsed": false,
     "input": [
      "getdata(url1, variables=['time'])"
     ],
     "language": "python",
     "metadata": {},
     "outputs": [
      {
       "output_type": "pyout",
       "prompt_number": 4,
       "text": [
        "{'time': array([ -1645.,  -1280.,   -915.,   -549.,   -184.,    181.,    546.,\n",
        "          912.,   1277.,   1642.,   2007.,   2373.,   2738.,   3103.,\n",
        "         3468.,   3834.,   4199.,   4564.,   4929.,   5295.,   5660.,\n",
        "         6025.,   6390.,   6756.,   7121.,   7486.,   7851.,   8217.,\n",
        "         8582.,   8947.,   9312.,   9678.,  10043.,  10408.,  10773.,\n",
        "        11139.,  11504.,  11869.,  12234.,  12600.,  12965.,  13330.,\n",
        "        13695.,  14061.,  14426.,  14791.,  15156.,  15522.,  15887.,\n",
        "        16252.,  16617.])}"
       ]
      }
     ],
     "prompt_number": 4
    },
    {
     "cell_type": "code",
     "collapsed": false,
     "input": [
      "with Dataset(url0) as ds:\n",
      "    cs = ds.variables['cross_shore'][:]\n",
      "    z = ds.variables['altitude'][-1,500,]"
     ],
     "language": "python",
     "metadata": {},
     "outputs": [],
     "prompt_number": 21
    },
    {
     "cell_type": "code",
     "collapsed": false,
     "input": [
      "data.keys()"
     ],
     "language": "python",
     "metadata": {},
     "outputs": [
      {
       "output_type": "pyout",
       "prompt_number": 7,
       "text": [
        "['altitude', 'cross_shore']"
       ]
      }
     ],
     "prompt_number": 7
    },
    {
     "cell_type": "code",
     "collapsed": false,
     "input": [
      "data['altitude'].shape"
     ],
     "language": "python",
     "metadata": {},
     "outputs": [
      {
       "output_type": "pyout",
       "prompt_number": 18,
       "text": [
        "(2268, 1925)"
       ]
      }
     ],
     "prompt_number": 18
    },
    {
     "cell_type": "code",
     "collapsed": false,
     "input": [
      "from scipy.interpolate import Rbf, InterpolatedUnivariateSpline"
     ],
     "language": "python",
     "metadata": {},
     "outputs": [],
     "prompt_number": 13
    },
    {
     "cell_type": "code",
     "collapsed": false,
     "input": [
      "ius = InterpolatedUnivariateSpline(z, cs)"
     ],
     "language": "python",
     "metadata": {},
     "outputs": [],
     "prompt_number": 27
    },
    {
     "cell_type": "code",
     "collapsed": false,
     "input": [
      "(data['cross_shore'], data['altitude'][100,])"
     ],
     "language": "python",
     "metadata": {},
     "outputs": [
      {
       "output_type": "pyout",
       "prompt_number": 20,
       "text": [
        "(7510.0,\n",
        " masked_array(data = [-- -- -- ..., -- -- --],\n",
        "             mask = [ True  True  True ...,  True  True  True],\n",
        "       fill_value = -9999.0)\n",
        ")"
       ]
      }
     ],
     "prompt_number": 20
    },
    {
     "cell_type": "code",
     "collapsed": false,
     "input": [
      "ius(3)\n"
     ],
     "language": "python",
     "metadata": {},
     "outputs": [
      {
       "output_type": "pyout",
       "prompt_number": 29,
       "text": [
        "array(nan)"
       ]
      }
     ],
     "prompt_number": 29
    },
    {
     "cell_type": "code",
     "collapsed": false,
     "input": [
      "tr = Transects()\n",
      "tr.set_filter(id=7003800, time=-1)"
     ],
     "language": "python",
     "metadata": {},
     "outputs": [],
     "prompt_number": 36
    },
    {
     "cell_type": "code",
     "collapsed": false,
     "input": [
      "x = tr.get_data('cross_shore')"
     ],
     "language": "python",
     "metadata": {},
     "outputs": [],
     "prompt_number": 40
    },
    {
     "cell_type": "code",
     "collapsed": false,
     "input": [
      "z = tr.get_data('altitude')"
     ],
     "language": "python",
     "metadata": {},
     "outputs": [],
     "prompt_number": 41
    },
    {
     "cell_type": "code",
     "collapsed": false,
     "input": [
      "import matplotlib.pyplot as plt"
     ],
     "language": "python",
     "metadata": {},
     "outputs": [],
     "prompt_number": 39
    },
    {
     "cell_type": "code",
     "collapsed": false,
     "input": [
      "plt.plot(x, z.flatten())"
     ],
     "language": "python",
     "metadata": {},
     "outputs": [
      {
       "output_type": "pyout",
       "prompt_number": 43,
       "text": [
        "[<matplotlib.lines.Line2D at 0xb4ad750>]"
       ]
      },
      {
       "output_type": "display_data",
       "png": "[encoded data removed]"
      }
     ],
     "prompt_number": 43
    },
    {
     "cell_type": "code",
     "collapsed": false,
     "input": [
      "import matplotlib.pyplot as plt\n",
      "import matplotlib.patches as mpatches\n",
      "\n",
      "x0 = np.array([0, 0, 45, 50, 80, 280, 680])\n",
      "z0 = np.array([-5, 0, 15, 15, 3, -1, -5])\n",
      "\n",
      "x1,z1 = np.copy(x0), np.copy(z0)\n",
      "x1[4] = 75\n",
      "x1[5:] += 95\n",
      "z1[4] = 5\n",
      "\n",
      "x2,z2 = np.copy(x0), np.copy(z0)\n",
      "x2[4] = 81.25\n",
      "x2[5:] -= 23.75\n",
      "z2[4] = 2.5\n",
      "\n",
      "x = {0:x0, 1:x1, 2:x2}\n",
      "z = {0:z0, 1:z1, 2:z2}\n",
      "\n",
      "fig, axes = plt.subplots(nrows=1, ncols=3, figsize=(14,3), sharey=True, sharex=True,\n",
      "    subplot_kw=dict(xlim=(799,0), ylim=(-5,16), xlabel='kustdwarse afstand [m]'))\n",
      "axes[0].set_ylabel('hoogte [m] t.o.v. NAP')\n",
      "fig.subplots_adjust(left=.04, right=.98, wspace=.02)\n",
      "\n",
      "titles = ('a) gevoeligheid waterlijn', 'b) gevoeligheid duinvoet bij hoog strand', 'c) gevoeligheid duinvoet bij laag strand')\n",
      "\n",
      "for i, ax in enumerate(axes):\n",
      "    ax.set_title(titles[i])\n",
      "    ax.add_patch(mpatches.Polygon(np.vstack([x[i], z[i]]).T, fc='yellow', ec='orange'))\n",
      "\n",
      "for i, ax in enumerate(axes):\n",
      "    xlim = ax.get_xlim()\n",
      "    ax.hlines(3, xmin=xlim[0], xmax=xlim[1], linestyle=':')\n",
      "    ax.add_patch(mpatches.Rectangle([0,-5], -np.diff(xlim), 4, alpha=.3, zorder=-10))\n",
      "    ax.add_patch(mpatches.Rectangle([0,-5], -np.diff(xlim), 6, alpha=.3, zorder=-10))\n",
      "\n",
      "axes[0].annotate(\"\", xy=(230, 2), xytext=(230, 0), arrowprops=dict(arrowstyle=\"<->\"))\n",
      "axes[0].annotate(\"\", xy=(230, 2), xytext=(130, 2), arrowprops=dict(arrowstyle=\"<->\"))\n",
      "\n",
      "axes[1].annotate(\"\", xy=(175, 5), xytext=(175, 3), arrowprops=dict(arrowstyle=\"<->\"))\n",
      "axes[1].annotate(\"\", xy=(75, 5), xytext=(175, 5), arrowprops=dict(arrowstyle=\"<->\"))\n",
      "\n",
      "axes[2].annotate(\"\", xy=(85, 4), xytext=(85, 2), arrowprops=dict(arrowstyle=\"<->\"))\n",
      "axes[2].annotate(\"\", xy=(85, 4), xytext=(78.75, 4), arrowprops=dict(arrowstyle=\"<->\"))\n",
      "\n",
      "fig.savefig('profile_sensitivity.png', dpi=600)"
     ],
     "language": "python",
     "metadata": {},
     "outputs": [
      {
       "output_type": "display_data",
       "png": "[encoded data removed]"
      }
     ],
     "prompt_number": 167
    },
    {
     "cell_type": "code",
     "collapsed": false,
     "input": [],
     "language": "python",
     "metadata": {},
     "outputs": [],
     "prompt_number": 134
    },
    {
     "cell_type": "code",
     "collapsed": false,
     "input": [],
     "language": "python",
     "metadata": {},
     "outputs": []
    }
   ],
   "metadata": {}
  }
 ]
}