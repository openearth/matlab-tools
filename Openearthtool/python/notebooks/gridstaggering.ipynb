{
 "metadata": {
  "name": "gridstaggering"
 },
 "nbformat": 3,
 "nbformat_minor": 0,
 "worksheets": [
  {
   "cells": [
    {
     "cell_type": "code",
     "collapsed": false,
     "input": [
      "import os\n",
      "\n",
      "import json\n",
      "\n",
      "import openearthtools.modelapi.bmi\n",
      "import matplotlib.pyplot as plt\n"
     ],
     "language": "python",
     "metadata": {},
     "outputs": [],
     "prompt_number": 1
    },
    {
     "cell_type": "code",
     "collapsed": false,
     "input": [
      "# Locate the libdflow dll\n",
      "DIRNAME = os.path.abspath('.')\n",
      "LIBFMNAME = os.path.join(DIRNAME, '../../src/.libs/libdflowfm.dylib')\n",
      "# This is a simulation of a river bend.\n",
      "rundir = '/Users/fedorbaart/Documents/checkouts/cases_unstruc/e00_unstruc/f04_bottomfriction/c016_2DConveyance_bend/input'\n",
      "VARIABLES = os.path.join(DIRNAME, '../../src/variables.json')"
     ],
     "language": "python",
     "metadata": {},
     "outputs": [],
     "prompt_number": 2
    },
    {
     "cell_type": "code",
     "collapsed": false,
     "input": [
      "# Wrap the dflow_fm library with the python BMI api (taking into account fortran memory order)\n",
      "fm = openearthtools.modelapi.bmi.BMIFortran(libname=LIBFMNAME, rundir=rundir)\n",
      "# Initialize the model with the input file\n",
      "fm.initialize('bendprof.mdu')"
     ],
     "language": "python",
     "metadata": {},
     "outputs": [],
     "prompt_number": 3
    },
    {
     "cell_type": "code",
     "collapsed": false,
     "input": [
      "xk = fm.get_nd('xk').copy()\n",
      "yk = fm.get_nd('yk').copy()\n",
      "flowelemnode = fm.get_nd('flowelemnode').copy()\n",
      "netelemnode = fm.get_nd('netelemnode').copy()\n",
      "\n",
      "\n",
      "netcellcoords = []\n",
      "for elem in netelemnode:\n",
      "    elemx = xk[elem-1]\n",
      "    elemy = yk[elem-1]\n",
      "    cell = np.c_[elemx, elemy]\n",
      "    netcellcoords.append(cell)\n",
      "\n",
      "flowcellcoords = []\n",
      "for elem in flowelemnode:\n",
      "    elemx = xk[elem-1]\n",
      "    elemy = yk[elem-1]\n",
      "    cell = np.c_[elemx, elemy]\n",
      "    flowcellcoords.append(cell)\n",
      " "
     ],
     "language": "python",
     "metadata": {},
     "outputs": [],
     "prompt_number": 22
    },
    {
     "cell_type": "code",
     "collapsed": false,
     "input": [
      "fig, ax = plt.subplots(1,1)\n",
      "nodes = ax.plot(xk, yk, 'k.', label='net nodes')\n",
      "Xflow, Yflow = xk[flowelemnode-1], yk[flowelemnode-1]\n",
      "netcells = matplotlib.collections.PolyCollection(netcellcoords, edgecolors='black', linewidths=1, alpha=0.4, facecolor='red', label='netcells')\n",
      "ax.add_collection(netcells)\n",
      "flowcells = matplotlib.collections.PolyCollection(flowcellcoords, edgecolors='black', linewidths=1, alpha=1, facecolor='black', label='flowcells')\n",
      "ax.add_collection(flowcells)\n",
      "ax.autoscale()\n",
      "ax.legend()\n"
     ],
     "language": "python",
     "metadata": {},
     "outputs": [
      {
       "output_type": "pyout",
       "prompt_number": 31,
       "text": [
        "<matplotlib.legend.Legend at 0x10a3d2cd0>"
       ]
      },
      {
       "output_type": "display_data",
       "png": "[encoded data removed]"
      }
     ],
     "prompt_number": 31
    },
    {
     "cell_type": "code",
     "collapsed": false,
     "input": [
      "len(netcellcoords)"
     ],
     "language": "python",
     "metadata": {},
     "outputs": [
      {
       "output_type": "pyout",
       "prompt_number": 35,
       "text": [
        "400"
       ]
      }
     ],
     "prompt_number": 35
    },
    {
     "cell_type": "code",
     "collapsed": false,
     "input": [],
     "language": "python",
     "metadata": {},
     "outputs": []
    }
   ],
   "metadata": {}
  }
 ]
}