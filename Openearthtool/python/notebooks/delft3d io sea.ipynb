{
 "metadata": {
  "name": "webinar_delft3d"
 },
 "nbformat": 3,
 "nbformat_minor": 0,
 "worksheets": [
  {
   "cells": [
    {
     "cell_type": "code",
     "collapsed": false,
     "input": [
      "cd C:\\Users\\boer_g\\Desktop\\Webinar\\OEM"
     ],
     "language": "python",
     "metadata": {},
     "outputs": [
      {
       "output_type": "stream",
       "stream": "stdout",
       "text": [
        "C:\\Users\\boer_g\\Desktop\\Webinar\\OEM\n"
       ]
      }
     ],
     "prompt_number": 4
    },
    {
     "cell_type": "code",
     "collapsed": false,
     "input": [
      "import openearthtools.io.delft3d as d3d\n",
      "dir(d3d)"
     ],
     "language": "python",
     "metadata": {},
     "outputs": [
      {
       "output_type": "pyout",
       "prompt_number": 5,
       "text": [
        "['Grid',\n",
        " '__builtins__',\n",
        " '__doc__',\n",
        " '__file__',\n",
        " '__name__',\n",
        " '__package__',\n",
        " '__path__',\n",
        " 'grid',\n",
        " 'mdf',\n",
        " 'read',\n",
        " 'tekal',\n",
        " 'tekalblock',\n",
        " 'write']"
       ]
      }
     ],
     "prompt_number": 5
    },
    {
     "cell_type": "code",
     "collapsed": false,
     "input": [
      "help(d3d.Grid)\n",
      "# example from https://svn.oss.deltares.nl/repos/openearthmodels/trunk/deltares/brazil_patos_lagoon_52S_32E/\n",
      "G = d3d.Grid.fromfile('lake_and_sea_5_ll.grd')"
     ],
     "language": "python",
     "metadata": {},
     "outputs": [
      {
       "output_type": "stream",
       "stream": "stdout",
       "text": [
        "Help on class Grid in module openearthtools.io.delft3d.grid:\n",
        "\n",
        "class Grid(__builtin__.object)\n",
        " |  Create a Delft3D grid file\n",
        " |  # Create an empty grid\n",
        " |  grid = Grid()\n",
        " |  # Load a grid from file\n",
        " |  grid = Grid.read('filename.grd')\n",
        " |  # Write grid to file\n",
        " |  Grid.read(grid,'filename.grd')\n",
        " |  \n",
        " |  Methods defined here:\n",
        " |  \n",
        " |  __init__(self, *args, **kwargs)\n",
        " |  \n",
        " |  write(self, filename, **kwargs)\n",
        " |  \n",
        " |  ----------------------------------------------------------------------\n",
        " |  Static methods defined here:\n",
        " |  \n",
        " |  fromfile(filename, **kwargs)\n",
        " |  \n",
        " |  ----------------------------------------------------------------------\n",
        " |  Data descriptors defined here:\n",
        " |  \n",
        " |  __dict__\n",
        " |      dictionary for instance variables (if defined)\n",
        " |  \n",
        " |  __weakref__\n",
        " |      list of weak references to the object (if defined)\n",
        "\n"
       ]
      }
     ],
     "prompt_number": 11
    },
    {
     "cell_type": "code",
     "collapsed": false,
     "input": [
      "# curvilinear grids typically have many invalid matrix positions\n",
      "# to represent islands, thick dams or cul-de-sacs (estuaries/rivers) \n",
      "# therefore the matrices are stored as Masked array type\n",
      "G.X"
     ],
     "language": "python",
     "metadata": {},
     "outputs": [
      {
       "output_type": "pyout",
       "prompt_number": 7,
       "text": [
        "masked_array(data =\n",
        " [[-- -- -- ..., -51.21892397029205 -51.25650464051964 -51.28911971484214]\n",
        " [-- -- -- ..., -51.25256180611927 -51.274277884869164 -51.29888408312184]\n",
        " [-- -- -- ..., -51.26523724097448 -51.288310621047295 -51.31035946306346]\n",
        " ..., \n",
        " [-51.92346119182868 -51.94226259182987 -51.96086078342037 ..., -- -- --]\n",
        " [-51.92608902265055 -51.94527933494353 -51.96403316815339 ..., -- -- --]\n",
        " [-51.928765963284064 -51.948398147668485 -51.967149196828366 ..., -- -- --]],\n",
        "             mask =\n",
        " [[ True  True  True ..., False False False]\n",
        " [ True  True  True ..., False False False]\n",
        " [ True  True  True ..., False False False]\n",
        " ..., \n",
        " [False False False ...,  True  True  True]\n",
        " [False False False ...,  True  True  True]\n",
        " [False False False ...,  True  True  True]],\n",
        "       fill_value = 1e+20)\n"
       ]
      }
     ],
     "prompt_number": 7
    },
    {
     "cell_type": "code",
     "collapsed": false,
     "input": [
      "G.dep = G.z"
     ],
     "language": "python",
     "metadata": {},
     "outputs": []
    },
    {
     "cell_type": "code",
     "collapsed": false,
     "input": [
      "matplotlib.pyplot.pcolor(G.X,G.Y,G.dep)\n",
      "gca().set_aspect(1./cos(mean(ylim())/180*pi),adjustable='box') # see Matlab axislat()"
     ],
     "language": "python",
     "metadata": {},
     "outputs": [
      {
       "output_type": "display_data",
       "png": "[encoded data removed]"
      }
     ],
     "prompt_number": 9
    },
    {
     "cell_type": "code",
     "collapsed": false,
     "input": [],
     "language": "python",
     "metadata": {},
     "outputs": []
    }
   ],
   "metadata": {}
  }
 ]
}