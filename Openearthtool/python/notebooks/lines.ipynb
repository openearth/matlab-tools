{
 "metadata": {
  "name": "",
  "signature": "sha256:9fad2c9f7368395b0fd7b012c734149623c2720c5fe16f02560a47df1ea25fc7"
 },
 "nbformat": 3,
 "nbformat_minor": 0,
 "worksheets": [
  {
   "cells": [
    {
     "cell_type": "code",
     "collapsed": false,
     "input": [
      "import numpy as np\n",
      "import simplekml"
     ],
     "language": "python",
     "metadata": {},
     "outputs": [],
     "prompt_number": 8
    },
    {
     "cell_type": "code",
     "collapsed": false,
     "input": [
      "fname = 'track.csv'\n",
      "data = np.genfromtxt(fname, delimiter=',')"
     ],
     "language": "python",
     "metadata": {},
     "outputs": [],
     "prompt_number": 9
    },
    {
     "cell_type": "code",
     "collapsed": false,
     "input": [
      "# create kml with placemarks\n",
      "kml = simplekml.Kml()\n",
      "lnstr = kml.newlinestring(name='track')\n",
      "lnstr.coords = zip(data[:,1], data[:,0])\n",
      "kml.save('track.kml')"
     ],
     "language": "python",
     "metadata": {},
     "outputs": [],
     "prompt_number": 10
    },
    {
     "cell_type": "code",
     "collapsed": false,
     "input": [],
     "language": "python",
     "metadata": {},
     "outputs": [],
     "prompt_number": 10
    }
   ],
   "metadata": {}
  }
 ]
}