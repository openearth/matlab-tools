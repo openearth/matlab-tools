{
 "metadata": {
  "name": ""
 },
 "nbformat": 3,
 "nbformat_minor": 0,
 "worksheets": [
  {
   "cells": [
    {
     "cell_type": "code",
     "collapsed": false,
     "input": [
      "import pandas\n",
      "\n",
      "import datetime\n",
      "import time\n",
      "\n",
      "import mx.DateTime\n",
      "\n",
      "import numpy as np\n",
      "\n",
      "import pytz\n",
      "\n",
      "import dateutil\n"
     ],
     "language": "python",
     "metadata": {},
     "outputs": [],
     "prompt_number": 13
    },
    {
     "cell_type": "code",
     "collapsed": false,
     "input": [
      "# constructing\n",
      "\n",
      "# time type\n",
      "time.gmtime(0) # time.struct_time(tm_year=1970, tm_mon=1, tm_mday=1, tm_hour=0, tm_min=0, tm_sec=0, tm_wday=3, tm_yday=1, tm_isdst=0)\n",
      "time.struct_time((2000,1,13,0,0,0,0,0,0))\n",
      "time.strptime('2000-01-13', '%Y-%m-%d')\n",
      "\n",
      "# Default type\n",
      "datetime.datetime.fromtimestamp(0) # 1970-01-01\n",
      "datetime.datetime.fromordinal(1) # 0001-01-01\n",
      "datetime.datetime(2000,1,13)\n",
      "datetime.datetime.strptime('2000-01-13', '%Y-%m-%d')\n",
      "\n",
      "# egenix \n",
      "mx.DateTime.DateTimeFromTicks(0) # 1970-01-01\n",
      "mx.DateTime.DateTimeFromAbsDays(0) # 0001-01-01\n",
      "mx.DateTime.DateTimeFrom('2000-01-13')\n",
      "mx.DateTime.DateTime(2000,1,13)\n",
      "\n",
      "# numpy\n",
      "np.datetime64(0,'s') # 1970-01-01 \n",
      "np.datetime64('2000-01-13')\n",
      "\n"
     ],
     "language": "python",
     "metadata": {},
     "outputs": [
      {
       "metadata": {},
       "output_type": "pyout",
       "prompt_number": 14,
       "text": [
        "numpy.datetime64('2000-01-13')"
       ]
      }
     ],
     "prompt_number": 14
    },
    {
     "cell_type": "code",
     "collapsed": false,
     "input": [
      "sys.getsizeof(time.strptime('2000-01-13', '%Y-%m-%d')) # 96\n",
      "sys.getsizeof(datetime.datetime.strptime('2000-01-13', '%Y-%m-%d')) # 48\n",
      "sys.getsizeof(mx.DateTime.DateTimeFrom('2000-01-13')) # 72\n",
      "sys.getsizeof(np.datetime64('2000-01-13')) # 40\n",
      "\n"
     ],
     "language": "python",
     "metadata": {},
     "outputs": [
      {
       "metadata": {},
       "output_type": "pyout",
       "prompt_number": 15,
       "text": [
        "32"
       ]
      }
     ],
     "prompt_number": 15
    },
    {
     "cell_type": "code",
     "collapsed": false,
     "input": [
      "# Difficult dates\n",
      "\n",
      "# Year 0 does not exist:\n",
      "# Year zero does not exist in the Anno Domini system usually used to number years in the Gregorian calendar\n",
      "# and in its predecessor, the Julian calendar. In this system, the year 1 BC is followed by AD 1. However, \n",
      "# there is a year zero in astronomical year numbering (where it coincides with the Julian year 1 BC) and \n",
      "# in ISO 8601:2004 (where it coincides with the Gregorian year 1 BC) as well as in all Buddhist and Hindu \n",
      "# calendars.\n",
      "\n",
      "\n",
      "# Since negative years and the year 0 don't fit well with the Gregorian or Julian calendars, the normal \n",
      "# ranges of dates start with year 1. The ISO C standard allows tm_year to assume values corresponding to \n",
      "# years before year 1, but the use of such years provided unspecified results.)\n",
      "\n",
      "#time.strptime('0000-01-01', '%Y-%m-%d')\n",
      "#datetime.datetime.strptime('0000-01-01', '%Y-%m-%d')\n",
      "mx.DateTime.DateTimeFrom('0000-01-01')\n",
      "#np.datetime64('0000-01-01')\n"
     ],
     "language": "python",
     "metadata": {},
     "outputs": [
      {
       "metadata": {},
       "output_type": "pyout",
       "prompt_number": 16,
       "text": [
        "<mx.DateTime.DateTime object for '0000-01-01 00:00:00.00' at 3e9cc90>"
       ]
      }
     ],
     "prompt_number": 16
    },
    {
     "cell_type": "code",
     "collapsed": false,
     "input": [
      "time.struct_time((-1,1,1,0,0,0,0,0,0))\n",
      "# datetime.datetime(-1,1,1) # nope\n",
      "mx.DateTime.DateTime(-1,1,1)\n",
      "# np.datetime64('-0001-01-01') # nope"
     ],
     "language": "python",
     "metadata": {},
     "outputs": [
      {
       "metadata": {},
       "output_type": "pyout",
       "prompt_number": 17,
       "text": [
        "<mx.DateTime.DateTime object for '-0001-01-01 00:00:00.00' at 3e9ca50>"
       ]
      }
     ],
     "prompt_number": 17
    },
    {
     "cell_type": "code",
     "collapsed": false,
     "input": [
      "#time.strptime('20000-01-01', '%Y-%m-%d')\n",
      "#datetime.datetime.strptime('20000-01-01', '%Y-%m-%d')\n",
      "#mx.DateTime.DateTimeFrom('20000-01-01')\n",
      "#np.datetime64('20000-01-01')"
     ],
     "language": "python",
     "metadata": {},
     "outputs": [],
     "prompt_number": 18
    },
    {
     "cell_type": "code",
     "collapsed": false,
     "input": [
      "time.struct_time((20000,1,1,0,0,0,0,0,0))\n",
      "# datetime.datetime(20000,1,1) # nope\n",
      "mx.DateTime.DateTime(20000,1,1)\n",
      "# np.array('200000-01-01', 'M8[D]') # nope"
     ],
     "language": "python",
     "metadata": {},
     "outputs": [
      {
       "metadata": {},
       "output_type": "pyout",
       "prompt_number": 19,
       "text": [
        "<mx.DateTime.DateTime object for '20000-01-01 00:00:00.00' at 3e9cae0>"
       ]
      }
     ],
     "prompt_number": 19
    },
    {
     "cell_type": "code",
     "collapsed": false,
     "input": [
      "utc = pytz.timezone('UTC')\n",
      "gmt = pytz.timezone('GMT')\n",
      "ams = pytz.timezone('Europe/Amsterdam')"
     ],
     "language": "python",
     "metadata": {},
     "outputs": [],
     "prompt_number": 20
    },
    {
     "cell_type": "code",
     "collapsed": false,
     "input": [
      "rows = []\n",
      "for date, transinfo in zip(ams._utc_transition_times, ams._transition_info):\n",
      "    dateutc = date.replace(tzinfo=utc)\n",
      "    row = {'utc': dateutc,\n",
      "           'ams': dateutc.astimezone(ams),\n",
      "           'diff': dateutc.astimezone(ams).replace(tzinfo=utc) - dateutc,\n",
      "           'name': transinfo[2]}\n",
      "           \n",
      "    rows.append(row)\n",
      "    \n",
      "\n"
     ],
     "language": "python",
     "metadata": {},
     "outputs": [],
     "prompt_number": 21
    },
    {
     "cell_type": "code",
     "collapsed": false,
     "input": [
      "df = pandas.DataFrame.from_records(rows)\n",
      "df['diff_minutes'] = df['diff'].apply(lambda x:60.0*x/(3600.0*1.0e9))\n",
      "df = df.ix[1:]"
     ],
     "language": "python",
     "metadata": {},
     "outputs": [],
     "prompt_number": 22
    },
    {
     "cell_type": "code",
     "collapsed": false,
     "input": [
      "fig, ax = plt.subplots(figsize=(20,5))\n",
      "ax.plot_date(matplotlib.dates.date2num(df['utc']), df['diff_minutes'], drawstyle='steps', linestyle='-', marker='', color='#009999', linewidth=3)\n",
      "ax.set_xlim(matplotlib.dates.date2num(datetime.datetime(1900,1,1)), matplotlib.dates.date2num(datetime.datetime(2015,1,1)))\n",
      "ax.set_xlabel('date')\n",
      "ax.set_ylabel('minutes to UTC')\n",
      "ax.set_title('Europe/Amsterdam')\n",
      "arrowprops=dict(facecolor='black', shrink=0.1)\n",
      "\n",
      "for name in set(df.name):\n",
      "    row = df[df.name == name].irow(0)\n",
      "    x = matplotlib.dates.date2num(row['ams'])\n",
      "    y = row['diff_minutes']\n",
      "    ax.annotate(name, xy=(x,y), xytext=(x+3000, y+10 if row['diff_minutes'] > 30 else y-10), arrowprops=arrowprops)\n",
      "        "
     ],
     "language": "python",
     "metadata": {},
     "outputs": [
      {
       "metadata": {},
       "output_type": "display_data",
       "png": "[encoded data removed]",
       "text": [
        "<matplotlib.figure.Figure at 0x4149e90>"
       ]
      }
     ],
     "prompt_number": 37
    }
   ],
   "metadata": {}
  }
 ]
}