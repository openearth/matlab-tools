{
 "metadata": {
  "name": ""
 },
 "nbformat": 3,
 "nbformat_minor": 0,
 "worksheets": [
  {
   "cells": [
    {
     "cell_type": "code",
     "collapsed": false,
     "input": [
      "import OpenData.locations\n",
      "import OpenData.opendata\n",
      "import osgeo.osr\n",
      "import pandas\n",
      "import urllib2\n",
      "import json\n",
      "import os\n",
      "import logging\n",
      "logger = logging.getLogger(__name__)\n",
      "logging.basicConfig(level=logging.DEBUG)\n",
      "logger.setLevel(logging.DEBUG)\n",
      "import osgeo.osr\n",
      "import pandas\n",
      "from lxml import etree\n",
      "import numpy as np\n"
     ],
     "language": "python",
     "metadata": {},
     "outputs": [],
     "prompt_number": 1
    },
    {
     "cell_type": "code",
     "collapsed": false,
     "input": [
      "df = OpenData.locations.get_locations()\n"
     ],
     "language": "python",
     "metadata": {},
     "outputs": [],
     "prompt_number": 2
    },
    {
     "cell_type": "code",
     "collapsed": false,
     "input": [
      "plt.plot(df['lon'], df['lat'], 'b.')\n"
     ],
     "language": "python",
     "metadata": {},
     "outputs": [
      {
       "metadata": {},
       "output_type": "pyout",
       "prompt_number": 3,
       "text": [
        "[<matplotlib.lines.Line2D at 0x54b7b50>]"
       ]
      },
      {
       "metadata": {},
       "output_type": "display_data",
       "png": "[encoded data removed]",
       "text": [
        "<matplotlib.figure.Figure at 0x5629f10>"
       ]
      }
     ],
     "prompt_number": 3
    },
    {
     "cell_type": "code",
     "collapsed": false,
     "input": [
      "df = OpenData.opendata.get_observations()"
     ],
     "language": "python",
     "metadata": {},
     "outputs": [],
     "prompt_number": 4
    },
    {
     "cell_type": "code",
     "collapsed": false,
     "input": [
      "df[np.logical_and.reduce([df['parameter_name'] == 'Waterhoogte', df['location_name'] == 'Scheveningen'])]"
     ],
     "language": "python",
     "metadata": {},
     "outputs": [
      {
       "html": [
        "<div style=\"max-height:1000px;max-width:1500px;overflow:auto;\">\n",
        "<table border=\"1\" class=\"dataframe\">\n",
        "  <thead>\n",
        "    <tr style=\"text-align: right;\">\n",
        "      <th></th>\n",
        "      <th>source</th>\n",
        "      <th>location_code</th>\n",
        "      <th>parameter_code</th>\n",
        "      <th>location_name</th>\n",
        "      <th>parameter_name</th>\n",
        "      <th>units</th>\n",
        "      <th>date_start</th>\n",
        "      <th>date_end</th>\n",
        "      <th>format</th>\n",
        "      <th>time_index</th>\n",
        "      <th>value</th>\n",
        "      <th>time_delta</th>\n",
        "      <th>date</th>\n",
        "      <th>time</th>\n",
        "    </tr>\n",
        "  </thead>\n",
        "  <tbody>\n",
        "    <tr>\n",
        "      <th>347 </th>\n",
        "      <td> LMW</td>\n",
        "      <td> SCHE</td>\n",
        "      <td> H10</td>\n",
        "      <td> Scheveningen</td>\n",
        "      <td> Waterhoogte</td>\n",
        "      <td> cm NAP</td>\n",
        "      <td>2014-02-21 14:40:00</td>\n",
        "      <td>2014-02-21 15:30:00</td>\n",
        "      <td> ASCII</td>\n",
        "      <td> 0</td>\n",
        "      <td>-56</td>\n",
        "      <td>00:00:00</td>\n",
        "      <td>2014-02-21 14:40:00</td>\n",
        "      <td> 1.392994e+09</td>\n",
        "    </tr>\n",
        "    <tr>\n",
        "      <th>804 </th>\n",
        "      <td> LMW</td>\n",
        "      <td> SCHE</td>\n",
        "      <td> H10</td>\n",
        "      <td> Scheveningen</td>\n",
        "      <td> Waterhoogte</td>\n",
        "      <td> cm NAP</td>\n",
        "      <td>2014-02-21 14:40:00</td>\n",
        "      <td>2014-02-21 15:30:00</td>\n",
        "      <td> ASCII</td>\n",
        "      <td> 1</td>\n",
        "      <td>-57</td>\n",
        "      <td>00:10:00</td>\n",
        "      <td>2014-02-21 14:50:00</td>\n",
        "      <td> 1.392994e+09</td>\n",
        "    </tr>\n",
        "    <tr>\n",
        "      <th>1261</th>\n",
        "      <td> LMW</td>\n",
        "      <td> SCHE</td>\n",
        "      <td> H10</td>\n",
        "      <td> Scheveningen</td>\n",
        "      <td> Waterhoogte</td>\n",
        "      <td> cm NAP</td>\n",
        "      <td>2014-02-21 14:40:00</td>\n",
        "      <td>2014-02-21 15:30:00</td>\n",
        "      <td> ASCII</td>\n",
        "      <td> 2</td>\n",
        "      <td>-57</td>\n",
        "      <td>00:20:00</td>\n",
        "      <td>2014-02-21 15:00:00</td>\n",
        "      <td> 1.392995e+09</td>\n",
        "    </tr>\n",
        "    <tr>\n",
        "      <th>1718</th>\n",
        "      <td> LMW</td>\n",
        "      <td> SCHE</td>\n",
        "      <td> H10</td>\n",
        "      <td> Scheveningen</td>\n",
        "      <td> Waterhoogte</td>\n",
        "      <td> cm NAP</td>\n",
        "      <td>2014-02-21 14:40:00</td>\n",
        "      <td>2014-02-21 15:30:00</td>\n",
        "      <td> ASCII</td>\n",
        "      <td> 3</td>\n",
        "      <td>-55</td>\n",
        "      <td>00:30:00</td>\n",
        "      <td>2014-02-21 15:10:00</td>\n",
        "      <td> 1.392995e+09</td>\n",
        "    </tr>\n",
        "    <tr>\n",
        "      <th>2175</th>\n",
        "      <td> LMW</td>\n",
        "      <td> SCHE</td>\n",
        "      <td> H10</td>\n",
        "      <td> Scheveningen</td>\n",
        "      <td> Waterhoogte</td>\n",
        "      <td> cm NAP</td>\n",
        "      <td>2014-02-21 14:40:00</td>\n",
        "      <td>2014-02-21 15:30:00</td>\n",
        "      <td> ASCII</td>\n",
        "      <td> 4</td>\n",
        "      <td>-56</td>\n",
        "      <td>00:40:00</td>\n",
        "      <td>2014-02-21 15:20:00</td>\n",
        "      <td> 1.392996e+09</td>\n",
        "    </tr>\n",
        "    <tr>\n",
        "      <th>2632</th>\n",
        "      <td> LMW</td>\n",
        "      <td> SCHE</td>\n",
        "      <td> H10</td>\n",
        "      <td> Scheveningen</td>\n",
        "      <td> Waterhoogte</td>\n",
        "      <td> cm NAP</td>\n",
        "      <td>2014-02-21 14:40:00</td>\n",
        "      <td>2014-02-21 15:30:00</td>\n",
        "      <td> ASCII</td>\n",
        "      <td> 5</td>\n",
        "      <td>-54</td>\n",
        "      <td>00:50:00</td>\n",
        "      <td>2014-02-21 15:30:00</td>\n",
        "      <td> 1.392997e+09</td>\n",
        "    </tr>\n",
        "  </tbody>\n",
        "</table>\n",
        "</div>"
       ],
       "metadata": {},
       "output_type": "pyout",
       "prompt_number": 5,
       "text": [
        "     source location_code parameter_code location_name parameter_name   units  \\\n",
        "347     LMW          SCHE            H10  Scheveningen    Waterhoogte  cm NAP   \n",
        "804     LMW          SCHE            H10  Scheveningen    Waterhoogte  cm NAP   \n",
        "1261    LMW          SCHE            H10  Scheveningen    Waterhoogte  cm NAP   \n",
        "1718    LMW          SCHE            H10  Scheveningen    Waterhoogte  cm NAP   \n",
        "2175    LMW          SCHE            H10  Scheveningen    Waterhoogte  cm NAP   \n",
        "2632    LMW          SCHE            H10  Scheveningen    Waterhoogte  cm NAP   \n",
        "\n",
        "              date_start            date_end format  time_index  value  \\\n",
        "347  2014-02-21 14:40:00 2014-02-21 15:30:00  ASCII           0    -56   \n",
        "804  2014-02-21 14:40:00 2014-02-21 15:30:00  ASCII           1    -57   \n",
        "1261 2014-02-21 14:40:00 2014-02-21 15:30:00  ASCII           2    -57   \n",
        "1718 2014-02-21 14:40:00 2014-02-21 15:30:00  ASCII           3    -55   \n",
        "2175 2014-02-21 14:40:00 2014-02-21 15:30:00  ASCII           4    -56   \n",
        "2632 2014-02-21 14:40:00 2014-02-21 15:30:00  ASCII           5    -54   \n",
        "\n",
        "      time_delta                date          time  \n",
        "347     00:00:00 2014-02-21 14:40:00  1.392994e+09  \n",
        "804     00:10:00 2014-02-21 14:50:00  1.392994e+09  \n",
        "1261    00:20:00 2014-02-21 15:00:00  1.392995e+09  \n",
        "1718    00:30:00 2014-02-21 15:10:00  1.392995e+09  \n",
        "2175    00:40:00 2014-02-21 15:20:00  1.392996e+09  \n",
        "2632    00:50:00 2014-02-21 15:30:00  1.392997e+09  "
       ]
      }
     ],
     "prompt_number": 5
    },
    {
     "cell_type": "code",
     "collapsed": false,
     "input": [],
     "language": "python",
     "metadata": {},
     "outputs": [
      {
       "metadata": {},
       "output_type": "pyout",
       "prompt_number": 9,
       "text": [
        "array([datetime.datetime(2014, 2, 21, 14, 40),\n",
        "       datetime.datetime(2014, 2, 21, 14, 40),\n",
        "       datetime.datetime(2014, 2, 21, 14, 40), ...,\n",
        "       datetime.datetime(2014, 2, 21, 15, 30),\n",
        "       datetime.datetime(2014, 2, 21, 15, 30),\n",
        "       datetime.datetime(2014, 2, 21, 15, 30)], dtype=object)"
       ]
      }
     ],
     "prompt_number": 9
    },
    {
     "cell_type": "code",
     "collapsed": false,
     "input": [],
     "language": "python",
     "metadata": {},
     "outputs": []
    }
   ],
   "metadata": {}
  }
 ]
}