{
 "metadata": {
  "name": "",
  "signature": "sha256:231d15be731745cacdaa0970ba13e4eeedd7098b0f3846d6ed93ed73e2ac413f"
 },
 "nbformat": 3,
 "nbformat_minor": 0,
 "worksheets": [
  {
   "cells": [
    {
     "cell_type": "markdown",
     "metadata": {},
     "source": [
      "In this notebook, the hydrotools.gis.basemap_setup function is demonstrated.\n",
      "\n",
      "basemap_setup prepares a nice looking GIS map in which you can consequently plot your data (e.g. shapefiles, a list of points, lines, patches and so forth).\n",
      "\n",
      "First we'll load the necessary package"
     ]
    },
    {
     "cell_type": "code",
     "collapsed": false,
     "input": [
      "from hydrotools import gis"
     ],
     "language": "python",
     "metadata": {},
     "outputs": []
    },
    {
     "cell_type": "markdown",
     "metadata": {},
     "source": [
      "Now let's see what the function has to offer us"
     ]
    },
    {
     "cell_type": "code",
     "collapsed": false,
     "input": [
      "help(gis.basemap_setup)"
     ],
     "language": "python",
     "metadata": {},
     "outputs": []
    },
    {
     "cell_type": "markdown",
     "metadata": {},
     "source": [
      "Let's make a cylindrical projection map across the Netherlands in low resolution. Note that the map handle is returned. You can use the map handle to convert coordinates to the map projection"
     ]
    },
    {
     "cell_type": "code",
     "collapsed": false,
     "input": [
      "xmin = 3\n",
      "xmax = 8\n",
      "ymin = 50\n",
      "ymax = 54\n",
      "m = gis.basemap_setup(xmin, xmax, ymin, ymax, resolution='l')"
     ],
     "language": "python",
     "metadata": {},
     "outputs": []
    },
    {
     "cell_type": "markdown",
     "metadata": {},
     "source": [
      "Ok, nice, but I don't wish to see the rivers and see some more parallel and meridian lines"
     ]
    },
    {
     "cell_type": "code",
     "collapsed": false,
     "input": [
      "m = gis.basemap_setup(xmin, xmax, ymin, ymax, resolution='l', drawrivers=False, meridian_dist=1, parallel_dist=1)"
     ],
     "language": "python",
     "metadata": {},
     "outputs": []
    },
    {
     "cell_type": "markdown",
     "metadata": {},
     "source": [
      "Awesome!, but hmmm, the resolution is awfully low, and there's no title! let's make it nicer!"
     ]
    },
    {
     "cell_type": "code",
     "collapsed": false,
     "input": [
      "m = gis.basemap_setup(xmin, xmax, ymin, ymax, resolution='h', drawrivers=False,\n",
      "                      meridian_dist=1, parallel_dist=1, fig_title='The Netherlands')"
     ],
     "language": "python",
     "metadata": {},
     "outputs": []
    },
    {
     "cell_type": "markdown",
     "metadata": {},
     "source": [
      "Wow! This is really cool! Now let's plot some data! Just a few crucial points!"
     ]
    },
    {
     "cell_type": "code",
     "collapsed": false,
     "input": [
      "loc_x = [4.12013, 6.11, 4.4]\n",
      "loc_y = [51.978535, 51.84, 51.9]\n",
      "loc_x_offset = [-1., 0.1, -.8]\n",
      "loc_y_offset = [0.1, 0.1, -.6]\n",
      "\n",
      "loc_names = ['Hoek van Holland', 'Lobith', 'Rotterdam\\nharbour']\n",
      "m = gis.basemap_setup(xmin, xmax, ymin, ymax, resolution='h', drawrivers=False,\n",
      "                      meridian_dist=1, parallel_dist=1, fig_title='The Netherlands')\n",
      "for x, y, loc_name, x_off, y_off in zip(loc_x, loc_y, loc_names, loc_x_offset, loc_y_offset):\n",
      "    x_x, y_y = m(x, y)\n",
      "    plt.plot(x_x, y_y, '.', markerfacecolor='r', markersize=16)\n",
      "    x_text, y_text = m(x+x_off, y+y_off)\n",
      "    plt.text(x_text, y_text, loc_name)"
     ],
     "language": "python",
     "metadata": {},
     "outputs": []
    },
    {
     "cell_type": "markdown",
     "metadata": {},
     "source": [
      "You can do a lot more, e.g. plotting a raster with color ramps or polygon shapefiles. More functions will appear in hydrotools soon that can deal with this!"
     ]
    },
    {
     "cell_type": "code",
     "collapsed": false,
     "input": [],
     "language": "python",
     "metadata": {},
     "outputs": []
    }
   ],
   "metadata": {}
  }
 ]
}