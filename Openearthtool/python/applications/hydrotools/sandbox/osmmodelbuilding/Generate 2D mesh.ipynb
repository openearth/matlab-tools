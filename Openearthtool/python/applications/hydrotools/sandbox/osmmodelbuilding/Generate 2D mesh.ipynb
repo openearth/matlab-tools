{
 "cells": [
  {
   "cell_type": "code",
   "execution_count": 2,
   "metadata": {
    "collapsed": false
   },
   "outputs": [
    {
     "name": "stdout",
     "output_type": "stream",
     "text": [
      "d:\\OneDrive\\projects\\1230843_Challenge_Fund\\training_folder\\software\\dflowfm\\x64_bit\\dflowfm.exe --gridgen:x0=524600.000000:y0=9247500.000000:dx=25.000000:dy=25.000000:nrows=100:ncols=76:spherical=0\n"
     ]
    }
   ],
   "source": [
    "\n",
    "import osm2dh\n",
    "\n",
    "fm_exe = r'd:\\OneDrive\\projects\\1230843_Challenge_Fund\\training_folder\\software\\dflowfm\\x64_bit\\dflowfm.exe'\n",
    "xmin = 524600\n",
    "xmax = 526500\n",
    "ymin = 9247500\n",
    "ymax = 9250000\n",
    "bounds = (xmin, ymin, xmax, ymax)\n",
    "osm2dh.generate_mesh('2d_mesh_net.nc', bounds, 25, fm_exe=fm_exe)\n"
   ]
  },
  {
   "cell_type": "code",
   "execution_count": null,
   "metadata": {
    "collapsed": true
   },
   "outputs": [],
   "source": []
  }
 ],
 "metadata": {
  "anaconda-cloud": {},
  "kernelspec": {
   "display_name": "Python [conda root]",
   "language": "python",
   "name": "conda-root-py"
  },
  "language_info": {
   "codemirror_mode": {
    "name": "ipython",
    "version": 2
   },
   "file_extension": ".py",
   "mimetype": "text/x-python",
   "name": "python",
   "nbconvert_exporter": "python",
   "pygments_lexer": "ipython2",
   "version": "2.7.12"
  }
 },
 "nbformat": 4,
 "nbformat_minor": 1
}
