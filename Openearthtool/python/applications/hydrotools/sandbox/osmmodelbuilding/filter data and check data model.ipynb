{
 "cells": [
  {
   "cell_type": "code",
   "execution_count": 34,
   "metadata": {
    "collapsed": false
   },
   "outputs": [
    {
     "data": {
      "text/plain": [
       "{'covered': str,\n",
       " 'depth': float,\n",
       " 'diameter': float,\n",
       " 'layer': int,\n",
       " 'width': float}"
      ]
     },
     "execution_count": 34,
     "metadata": {},
     "output_type": "execute_result"
    }
   ],
   "source": [
    "import os\n",
    "import gdal\n",
    "import ogr\n",
    "import fiona\n",
    "import shapely\n",
    "import logging\n",
    "\n",
    "from osm2dh import filter_features, check_data_model, create_feature, multi2single_geoms, toUTM\n",
    "# from DFlowFM_tools import write_layer\n",
    "\n",
    "osm_fn = r'd:\\OneDrive\\projects\\1230843_Challenge_Fund\\training_folder\\data\\OpenStreetMap\\manzese.osm'\n",
    "# osm_fn = r'c:\\Users\\hcwin\\OneDrive\\projects\\1230843_Challenge_Fund\\training_folder\\data\\OpenStreetMap\\manzese.osm'\n",
    "key = 'tunnel'\n",
    "value = 'culvert'\n",
    "layer_index = 1\n",
    "check_keys = {\n",
    "                'width': float,\n",
    "                'depth': float,\n",
    "                'covered': str,\n",
    "                'layer': int,\n",
    "                'diameter': float\n",
    "                }\n",
    "prop_types = {}\n",
    "for field in check_fields.keys():\n",
    "    prop_types[field] = check_fields[field].__name__\n",
    "check_values = {'width': [2, 3],\n",
    "               'covered': ['yes', 'dirt', 'garbage'],\n",
    "               'layer': [-1],\n",
    "               'diameter': [],\n",
    "               }\n",
    "schema = {\n",
    "          'geometry': 'LineString',  # TODO find geometry type in layer\n",
    "          'properties': prop_types,\n",
    "         }\n",
    "check_fields\n"
   ]
  },
  {
   "cell_type": "markdown",
   "metadata": {},
   "source": [
    "## functions to check data type and value restrictions in a data model"
   ]
  },
  {
   "cell_type": "code",
   "execution_count": 49,
   "metadata": {
    "collapsed": true
   },
   "outputs": [],
   "source": [
    "def check_Ftype(ftype, value):\n",
    "    try:\n",
    "        v_out = ftype(value)  # parse\n",
    "        if isinstance(v_out, str):\n",
    "            v_out = v_out.lower()\n",
    "    except:\n",
    "        v_out = None\n",
    "    return v_out\n",
    "\n",
    "def _check_data_model(check_fields, check_values, fieldName, v):\n",
    "    \"\"\"\n",
    "    Checks if value in a given field name is according to a given data model,\n",
    "    consisting of a mandated data type and allowed values\n",
    "    \n",
    "    \"\"\"\n",
    "    if not(fieldName in check_fields) and not(fieldName in check_values):\n",
    "        # nothing to be checked, so return with a flag=None\n",
    "        return v, None\n",
    "    \n",
    "    if (fieldName in check_fields) and (v is not None):\n",
    "        # field value should have a mandated data type, check valididty\n",
    "        ftype = check_fields[fieldName]\n",
    "        v_checked = check_Ftype(ftype, v)\n",
    "        if v_checked:  # if not an empty string or None is returned\n",
    "            flag = 0  # there is data, we assume in the right data model if any\n",
    "            if fieldName in check_values:\n",
    "                # check on data model needed\n",
    "                if not((v_checked in check_values[fieldName]) or (len(check_values[fieldName]) == 0)):\n",
    "                    flag = 1  # there is data, but value not in range\n",
    "            \n",
    "        else:\n",
    "            v_checked = ''\n",
    "            if v:\n",
    "                flag = 2  # there is data, but wrong data type\n",
    "            else:\n",
    "                flag = 3  # there is no data (v = '')\n",
    "        \n",
    "    else:\n",
    "        # only flags 0, 1 and 3 are possible\n",
    "        # field value should only follow a valid value range\n",
    "        flag = 0  # first assume value is within range, then check and update\n",
    "        if isinstance(v, str):\n",
    "            v_checked = v.lower()\n",
    "        else:\n",
    "            v_checked = v\n",
    "        if not((v_checked in check_values[fieldName]) or (len(check_values[fieldName]) == 0)):\n",
    "            flag = 1  # there is data, but value not in range\n",
    "        if v_checked is None: # v should be checked, but is None, and \n",
    "            flag = 3\n",
    "    return v_checked, flag\n"
   ]
  },
  {
   "cell_type": "code",
   "execution_count": 3,
   "metadata": {
    "collapsed": false
   },
   "outputs": [
    {
     "name": "stdout",
     "output_type": "stream",
     "text": [
      "Right data entered: (3.0, 0)\n",
      "Wrong data entered, but correct data model: (-1.0, 1)\n",
      "Data entered in incorrect data type: ('', 2)\n",
      "No data entered with empty string ('', 3)\n",
      "No data entered with nothing: (None, 3)\n"
     ]
    }
   ],
   "source": [
    "# checks on a typical float\n",
    "\n",
    "print 'Right data entered:', _check_data_model(check_fields, check_values, 'width', 3.0)\n",
    "print 'Wrong data entered, but correct data model:', _check_data_model(check_fields, check_values, 'width', -1)\n",
    "print 'Data entered in incorrect data type:', _check_data_model(check_fields, check_values, 'width', '3meter')\n",
    "print 'No data entered with empty string', _check_data_model(check_fields, check_values, 'width', '')\n",
    "print 'No data entered with nothing:', _check_data_model(check_fields, check_values, 'width', None)\n",
    "\n"
   ]
  },
  {
   "cell_type": "code",
   "execution_count": 4,
   "metadata": {
    "collapsed": false
   },
   "outputs": [
    {
     "name": "stdout",
     "output_type": "stream",
     "text": [
      "Data entered (float) not in data model (flag=None expected): (3.0, None)\n",
      "Data entered (string) not in data model (flag=None expected): ('some randomness', None)\n",
      "None entered not in data model (None, None)\n"
     ]
    }
   ],
   "source": [
    "# checks on a key/value that is not in the data model at all\n",
    "\n",
    "print 'Data entered (float) not in data model (flag=None expected):', _check_data_model(check_fields, check_values, 'some_key', 3.0)\n",
    "print 'Data entered (string) not in data model (flag=None expected):', _check_data_model(check_fields, check_values, 'some_other_key', 'some randomness')\n",
    "print 'None entered not in data model', _check_data_model(check_fields, check_values, 'yet_another_key', None)\n",
    "\n"
   ]
  },
  {
   "cell_type": "code",
   "execution_count": 5,
   "metadata": {
    "collapsed": false
   },
   "outputs": [
    {
     "name": "stdout",
     "output_type": "stream",
     "text": [
      "Right data entered with a capital (only lower case is used, flag=0): ('yes', 0)\n",
      "Right data entered with small case (flag=0): ('yes', 0)\n",
      "Right data entered with second choice (flag=0): ('dirt', 0)\n",
      "Wrong data entered, but correct data model (flag=1): ('something', 1)\n",
      "Data entered in incorrect data type (string is very interpretable, so flag=1): ('2', 1)\n",
      "No data entered with empty string (flag=3) ('', 3)\n",
      "No data entered with nothing (flag=3): (None, 3)\n"
     ]
    }
   ],
   "source": [
    "# checks on a typical string\n",
    "\n",
    "print 'Right data entered with a capital (only lower case is used, flag=0):', _check_data_model(check_fields, check_values, 'covered', 'Yes')\n",
    "print 'Right data entered with small case (flag=0):', _check_data_model(check_fields, check_values, 'covered', 'yes')\n",
    "print 'Right data entered with second choice (flag=0):', _check_data_model(check_fields, check_values, 'covered', 'DIRT')\n",
    "print 'Wrong data entered, but correct data model (flag=1):', _check_data_model(check_fields, check_values, 'covered', 'something')\n",
    "print 'Data entered in incorrect data type (string is very interpretable, so flag=1):', _check_data_model(check_fields, check_values, 'covered', 2)\n",
    "print 'No data entered with empty string (flag=3)', _check_data_model(check_fields, check_values, 'covered', '')\n",
    "print 'No data entered with nothing (flag=3):', _check_data_model(check_fields, check_values, 'covered', None)\n",
    "\n"
   ]
  },
  {
   "cell_type": "code",
   "execution_count": 2,
   "metadata": {
    "collapsed": false
   },
   "outputs": [],
   "source": [
    "# here we check if the new splitted functions result in the same dataset as the combined messy function filter_features_old\n",
    "all_features = filter_features(osm_fn, key=key, value=value,\n",
    "                               layer_index=layer_index, wgs2utm=False, logger=logging)"
   ]
  },
  {
   "cell_type": "code",
   "execution_count": 30,
   "metadata": {
    "collapsed": false
   },
   "outputs": [],
   "source": [
    "feats_checked = check_data_model(all_features, check_keys=check_fields, check_values=check_values, schema=schema, \n",
    "                     keep_original=True, logger=logging)\n"
   ]
  },
  {
   "cell_type": "code",
   "execution_count": 4,
   "metadata": {
    "collapsed": false
   },
   "outputs": [],
   "source": [
    "from fiona import crs\n",
    "import numpy as np\n",
    "def write_layer(db, layer_name, data, write_mode='w', format='ESRI Shapefile', schema=schema, crs=crs.from_epsg(4326), logger=logging):\n",
    "    \"\"\"\n",
    "    write fiona gis file\n",
    "\n",
    "    Args:\n",
    "        db: filename or database\n",
    "        layer_name: layer name\n",
    "        data: list of dictionaries with 'geometry' (containing shapely geom) and 'properties' (containing dictionary of attributes)\n",
    "        crs: fiona.crs object (default epsg:4326)\n",
    "\n",
    "    Returns:\n",
    "        Nothing, only a written file\n",
    "\n",
    "    \"\"\"\n",
    "    # Define a polygon feature geometry with one attribute\n",
    "    # prepare properties\n",
    "    template = data[0]\n",
    "\n",
    "    # try remove existing file if exists, otherwise fiona dies without warning when writing\n",
    "    try:\n",
    "        if write_mode == 'w':\n",
    "            if os.path.isfile(db):\n",
    "                os.unlink(db)\n",
    "                if db.endswith('.shp'):\n",
    "                    [os.unlink('{}{}'.format(db[:-3], ext)) for ext in ['cpg', 'dbf', 'prj', 'shx']\n",
    "                     if os.path.isfile('{}{}'.format(db[:-3], ext))]\n",
    "    except WindowsError, e:\n",
    "        logger.error(e)\n",
    "    if schema is None:\n",
    "        # try to make a schema based upon the first feature in the list of features (should not contain 'None'!)\n",
    "        props = {}\n",
    "        for key in template['properties'].keys():\n",
    "            if isinstance(template['properties'][key], np.generic):\n",
    "                prop_type = type(np.asscalar(template['properties'][key])).__name__\n",
    "            else:\n",
    "                prop_type = type(template['properties'][key]).__name__\n",
    "\n",
    "            props[key] = prop_type\n",
    "        schema = {\n",
    "                  'geometry': type(template['geometry']).__name__,  # ['type']\n",
    "                  'properties': props,\n",
    "                  }\n",
    "    # Write a new Shapefile\n",
    "    with fiona.open(db, write_mode, format, schema, layer=layer_name, crs=crs) as c:\n",
    "        for o in data:\n",
    "            o['geometry'] = shapely.geometry.mapping(o['geometry'])\n",
    "            c.write(o)\n",
    "    logger.info('file successfully written to {}'.format(db))\n",
    "    return\n"
   ]
  },
  {
   "cell_type": "code",
   "execution_count": 5,
   "metadata": {
    "collapsed": false,
    "scrolled": true
   },
   "outputs": [],
   "source": [
    "fn_out = 'culvert_new.json'\n",
    "prop_with_flags = {}\n",
    "for prop in prop_types.keys():\n",
    "    prop_with_flags[prop] = prop_types[prop]\n",
    "    prop_with_flags[prop + '_flag'] = 'int'\n",
    "\n",
    "schema_flag = {\n",
    "          'geometry': 'LineString',  # TODO find geometry type in layer\n",
    "          'properties': prop_with_flags,\n",
    "         }\n",
    "write_layer(fn_out, None, feats_checked,\n",
    "                   format='GeoJSON', write_mode='w', crs=fiona.crs.from_epsg(4326), schema=schema_flag, logger=logging)"
   ]
  },
  {
   "cell_type": "code",
   "execution_count": 7,
   "metadata": {
    "collapsed": false
   },
   "outputs": [],
   "source": [
    "culverts_all = filter_features(osm_fn, key='tunnel', value='culvert',\n",
    "                               layer_index=layer_index, logger=logging)\n",
    "culvert_new = check_data_model(culverts_all, check_keys=check_fields, check_values=check_values, schema=schema,\n",
    "                     keep_original=False, logger=logging)"
   ]
  },
  {
   "cell_type": "markdown",
   "metadata": {},
   "source": [
    "## Reporting"
   ]
  },
  {
   "cell_type": "code",
   "execution_count": 31,
   "metadata": {
    "collapsed": false
   },
   "outputs": [],
   "source": [
    "import pandas as pd\n",
    "total_features = len(feats_checked)\n",
    "validation_report = {}\n",
    "for key in schema['properties']:\n",
    "    key_flag = key + '_flag'\n",
    "    # retrieve amount of values of 0, 1, 2, 3\n",
    "    flag = [feat['properties'][key_flag] for feat in feats_checked]\n",
    "    validation_report[key] = [flag.count(0),\n",
    "                              flag.count(1),\n",
    "                              flag.count(2),\n",
    "                              flag.count(3),\n",
    "                             ]\n",
    "#     validation_report['index_names'] = ['correct', 'invalid value', 'invalid data type', 'missing value']\n",
    "df = pd.DataFrame(validation_report)\n",
    "df.index = ['correct', 'invalid value', 'invalid data type', 'missing value']\n",
    "df.index.name = 'validation'\n",
    "#     data = {'Column 1'     : [1., 2., 3., 4.],\n",
    "#         'Index Title'  : [\"Apples\", \"Oranges\", \"Puppies\", \"Ducks\"]}\n",
    "\n",
    "\n",
    "\n",
    "\n",
    "    "
   ]
  },
  {
   "cell_type": "code",
   "execution_count": 33,
   "metadata": {
    "collapsed": false
   },
   "outputs": [],
   "source": [
    "df.to_excel('test.xlsx')\n",
    "\n"
   ]
  },
  {
   "cell_type": "code",
   "execution_count": 29,
   "metadata": {
    "collapsed": false
   },
   "outputs": [
    {
     "data": {
      "text/plain": [
       "{'geometry': <shapely.geometry.linestring.LineString at 0x4241940>,\n",
       " 'properties': {'covered': 'yes',\n",
       "  'covered_flag': 0,\n",
       "  'depth': None,\n",
       "  'depth_flag': None,\n",
       "  'diameter': 1.0,\n",
       "  'diameter_flag': None,\n",
       "  'layer': -1,\n",
       "  'layer_flag': None,\n",
       "  'width': None,\n",
       "  'width_flag': 3}}"
      ]
     },
     "execution_count": 29,
     "metadata": {},
     "output_type": "execute_result"
    }
   ],
   "source": [
    "feats_checked[0]\n"
   ]
  },
  {
   "cell_type": "code",
   "execution_count": null,
   "metadata": {
    "collapsed": true
   },
   "outputs": [],
   "source": []
  }
 ],
 "metadata": {
  "anaconda-cloud": {},
  "kernelspec": {
   "display_name": "Python [conda root]",
   "language": "python",
   "name": "conda-root-py"
  },
  "language_info": {
   "codemirror_mode": {
    "name": "ipython",
    "version": 2
   },
   "file_extension": ".py",
   "mimetype": "text/x-python",
   "name": "python",
   "nbconvert_exporter": "python",
   "pygments_lexer": "ipython2",
   "version": "2.7.12"
  }
 },
 "nbformat": 4,
 "nbformat_minor": 0
}
