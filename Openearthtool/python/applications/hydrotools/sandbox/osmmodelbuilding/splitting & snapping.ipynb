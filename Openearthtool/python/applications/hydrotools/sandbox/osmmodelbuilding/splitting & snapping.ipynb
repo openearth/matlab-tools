{
 "cells": [
  {
   "cell_type": "code",
   "execution_count": 1,
   "metadata": {
    "collapsed": true
   },
   "outputs": [],
   "source": [
    "from shapely.geometry import (box, LineString, MultiLineString, MultiPoint,\n",
    "    Point, Polygon, MultiPolygon, shape, GeometryCollection)\n",
    "from shapely_tools import *"
   ]
  },
  {
   "cell_type": "code",
   "execution_count": 2,
   "metadata": {
    "collapsed": false
   },
   "outputs": [],
   "source": [
    "# plot functions\n",
    "import matplotlib.pyplot as plt\n",
    "%matplotlib inline\n",
    "\n",
    "def plot_coords(ax, ob):\n",
    "    x, y = ob.xy\n",
    "    ax.plot(x, y, '.', color='#999999', zorder=3)\n",
    "\n",
    "def plot_point(ax, ob, color='#000000'):\n",
    "    x, y = ob.xy\n",
    "    ax.plot(x, y, 'o', color=color, zorder=4, markersize=7)\n",
    "    \n",
    "def plot_bounds(ax, ob, color='#000000', marker='o'):\n",
    "    x, y = zip(*list((p.x, p.y) for p in ob.boundary))\n",
    "    ax.plot(x, y, marker, color=color, zorder=3)\n",
    "\n",
    "def plot_line(ax, ob, color='red'):\n",
    "    x, y = ob.xy\n",
    "    ax.plot(x, y, color=color, alpha=0.7, linewidth=2, solid_capstyle='round', zorder=2)\n",
    "    \n",
    "\n",
    "def baseplot(lines, title='', ax=None):\n",
    "    if ax is None:\n",
    "        fig, ax = plt.subplots(1, figsize=(5, 5))\n",
    "    for line in lines:\n",
    "        plot_line(ax, line, 'grey')\n",
    "        plot_bounds(ax, line)\n",
    "        plot_coords(ax, line)       \n",
    "\n",
    "    ax.set_title(title)\n",
    "    ax.get_xaxis().set_visible(False)\n",
    "    ax.get_yaxis().set_visible(False)"
   ]
  },
  {
   "cell_type": "code",
   "execution_count": 10,
   "metadata": {
    "collapsed": false
   },
   "outputs": [
    {
     "ename": "NameError",
     "evalue": "name 'NoneType' is not defined",
     "output_type": "error",
     "traceback": [
      "\u001b[1;31m---------------------------------------------------------------------------\u001b[0m",
      "\u001b[1;31mNameError\u001b[0m                                 Traceback (most recent call last)",
      "\u001b[1;32m<ipython-input-10-a79a220fe8bf>\u001b[0m in \u001b[0;36m<module>\u001b[1;34m()\u001b[0m\n\u001b[1;32m----> 1\u001b[1;33m \u001b[0misinstance\u001b[0m\u001b[1;33m(\u001b[0m\u001b[0mNone\u001b[0m\u001b[1;33m,\u001b[0m \u001b[0mNoneType\u001b[0m\u001b[1;33m)\u001b[0m\u001b[1;33m\u001b[0m\u001b[0m\n\u001b[0m",
      "\u001b[1;31mNameError\u001b[0m: name 'NoneType' is not defined"
     ]
    }
   ],
   "source": [
    "isinstance(None, )\n"
   ]
  },
  {
   "cell_type": "code",
   "execution_count": 3,
   "metadata": {
    "collapsed": false
   },
   "outputs": [
    {
     "data": {
      "text/plain": [
       "(-0.2, 1.2)"
      ]
     },
     "execution_count": 3,
     "metadata": {},
     "output_type": "execute_result"
    },
    {
     "data": {
      "image/png": "[encoded data removed]",
      "text/plain": [
       "<matplotlib.figure.Figure at 0x43c6160>"
      ]
     },
     "metadata": {},
     "output_type": "display_data"
    }
   ],
   "source": [
    "bbox = shapely.geometry.Polygon([(0, 0), (0, 1), (1, 1), (1, 0)])\n",
    "\n",
    "lines = explode_polygons(bbox)\n",
    "\n",
    "fig, ax = plt.subplots(1, 1, figsize=(5, 5))\n",
    "baseplot(lines, 'line', ax=ax)\n",
    "ax.set_xlim(-0.2, 1.2)\n",
    "ax.set_ylim(-0.2, 1.2)\n"
   ]
  },
  {
   "cell_type": "code",
   "execution_count": 4,
   "metadata": {
    "collapsed": false
   },
   "outputs": [
    {
     "data": {
      "image/png": "[encoded data removed]",
      "text/plain": [
       "<matplotlib.figure.Figure at 0x72d8e10>"
      ]
     },
     "metadata": {},
     "output_type": "display_data"
    }
   ],
   "source": [
    "l1 = LineString([[0, 1], [1, 0]])\n",
    "lines_cap = cap_lines(l1, offset=0., length=0.2)\n",
    "\n",
    "fig, ax = plt.subplots(1, 2, figsize=(10, 5))\n",
    "baseplot([l1], 'line', ax=ax[0])\n",
    "ax[0].set_xlim(-0.2, 1.2)\n",
    "ax[0].set_ylim(-0.2, 1.2)\n",
    "baseplot(lines_cap, 'caps', ax=ax[1])\n",
    "ax[1].set_xlim(-0.2, 1.2)\n",
    "a = ax[1].set_ylim(-0.2, 1.2)"
   ]
  },
  {
   "cell_type": "code",
   "execution_count": 5,
   "metadata": {
    "collapsed": false
   },
   "outputs": [
    {
     "data": {
      "image/png": "[encoded data removed]",
      "text/plain": [
       "<matplotlib.figure.Figure at 0x43c62e8>"
      ]
     },
     "metadata": {},
     "output_type": "display_data"
    }
   ],
   "source": [
    "l1 = LineString([[0, 1], [1, 0]])\n",
    "l1_extended = extend_line(l1, offset=0.5, side='both')\n",
    "\n",
    "fig, ax = plt.subplots(1, 2, figsize=(10, 5))\n",
    "baseplot([l1], 'line', ax=ax[0])\n",
    "ax[0].set_xlim(-0.5, 1.5)\n",
    "ax[0].set_ylim(-0.5, 1.5)\n",
    "baseplot([l1_extended], 'extended line', ax=ax[1])\n",
    "ax[1].set_xlim(-0.5, 1.5)\n",
    "a = ax[1].set_ylim(-0.5, 1.5)"
   ]
  },
  {
   "cell_type": "code",
   "execution_count": 6,
   "metadata": {
    "collapsed": false
   },
   "outputs": [
    {
     "data": {
      "text/plain": [
       "True"
      ]
     },
     "execution_count": 6,
     "metadata": {},
     "output_type": "execute_result"
    }
   ],
   "source": [
    "a = {'id': {'id2': 2}, 'blal': 2}\n",
    "'id2' in a['id']"
   ]
  },
  {
   "cell_type": "code",
   "execution_count": 7,
   "metadata": {
    "collapsed": false
   },
   "outputs": [
    {
     "name": "stdout",
     "output_type": "stream",
     "text": [
      "[0, 0, 1, 1]\n",
      "number of lines after split: 4\n"
     ]
    },
    {
     "data": {
      "image/png": "[encoded data removed]",
      "text/plain": [
       "<matplotlib.figure.Figure at 0x43a2ac8>"
      ]
     },
     "metadata": {},
     "output_type": "display_data"
    }
   ],
   "source": [
    "l1 = LineString([[0, 1], [1, 0]])\n",
    "l2 = LineString([[0, 0], [1, 1]])\n",
    "lines = [l1, l2]\n",
    "\n",
    "# find intersection points of boundaries and lines and split lines based on it\n",
    "lines_split, index = split_lines(lines, return_index=True)\n",
    "print(index)\n",
    "print(\"number of lines after split: {:d}\".format(len(lines_split)))\n",
    "fig, ax = plt.subplots(1, 2, figsize=(10, 5))\n",
    "baseplot(lines, 'lines', ax=ax[0])\n",
    "baseplot(lines_split, 'splitted at intersection', ax=ax[1])\n",
    "ax[0].set_xlim(-0.2, 1.2)\n",
    "ax[0].set_ylim(-0.2, 1.2)\n",
    "ax[1].set_xlim(-0.2, 1.2)\n",
    "a = ax[1].set_ylim(-0.2, 1.2)"
   ]
  },
  {
   "cell_type": "code",
   "execution_count": null,
   "metadata": {
    "collapsed": true
   },
   "outputs": [],
   "source": []
  },
  {
   "cell_type": "code",
   "execution_count": 8,
   "metadata": {
    "collapsed": false
   },
   "outputs": [
    {
     "name": "stdout",
     "output_type": "stream",
     "text": [
      "number of lines after snap: 2\n"
     ]
    },
    {
     "data": {
      "image/png": "[encoded data removed]",
      "text/plain": [
       "<matplotlib.figure.Figure at 0x7c763c8>"
      ]
     },
     "metadata": {},
     "output_type": "display_data"
    }
   ],
   "source": [
    "l1 = LineString([[0, 1], [1, 0]])\n",
    "l2 = LineString([[.2, 0], [.4, .4]])\n",
    "lines = [l1, l2]\n",
    "\n",
    "# find intersection points of boundaries and lines and split lines based on it\n",
    "lines_snap = snap_lines(lines, max_dist=0.5)\n",
    "print(\"number of lines after snap: {:d}\".format(len(lines_snap)))\n",
    "\n",
    "fig, ax = plt.subplots(1, 2, figsize=(10, 5))\n",
    "baseplot(lines, 'lines', ax=ax[0])\n",
    "baseplot(lines_snap, 'extend line snap & clip', ax=ax[1])\n",
    "ax[0].set_xlim(-0.2, 1.2)\n",
    "ax[0].set_ylim(-0.2, 1.2)\n",
    "ax[1].set_xlim(-0.2, 1.2)\n",
    "a = ax[1].set_ylim(-0.2, 1.2)"
   ]
  },
  {
   "cell_type": "code",
   "execution_count": 9,
   "metadata": {
    "collapsed": false
   },
   "outputs": [
    {
     "name": "stdout",
     "output_type": "stream",
     "text": [
      "[0, 0, 1, 2, 2, 2]\n",
      "number of lines after split: 6\n"
     ]
    },
    {
     "data": {
      "image/png": "[encoded data removed]",
      "text/plain": [
       "<matplotlib.figure.Figure at 0x7e230b8>"
      ]
     },
     "metadata": {},
     "output_type": "display_data"
    }
   ],
   "source": [
    "l1 = LineString([[0, 1], [1, 0]])\n",
    "l2 = LineString([[.2, 0.05], [.4, .4]])\n",
    "l3 = LineString([[0,0], [1.2, 0]])\n",
    "lines = [l1, l2, l3]\n",
    "\n",
    "# find intersection points of boundaries and lines and split lines based on it\n",
    "max_dist=0.0\n",
    "lines_snap, idx_snap = snap_lines(lines, max_dist=10, tolerance=1e-3, return_index=True)\n",
    "lines_split, index = split_lines(lines_snap, tolerance=1e-3, return_index=True)\n",
    "print(index)\n",
    "print(\"number of lines after split: {:d}\".format(len(index)))\n",
    "\n",
    "fig, ax = plt.subplots(1, 2, figsize=(10, 5))\n",
    "baseplot(lines, 'lines', ax=ax[0])\n",
    "baseplot(lines_split, 'extend line snap & clip; max_dist {:.2f}'.format(max_dist), ax=ax[1])\n",
    "ax[0].set_xlim(-0.2, 1.4)\n",
    "ax[0].set_ylim(-0.2, 1.2)\n",
    "ax[1].set_xlim(-0.2, 1.4)\n",
    "a = ax[1].set_ylim(-0.2, 1.2)"
   ]
  }
 ],
 "metadata": {
  "anaconda-cloud": {},
  "kernelspec": {
   "display_name": "Python [Root]",
   "language": "python",
   "name": "Python [Root]"
  },
  "language_info": {
   "codemirror_mode": {
    "name": "ipython",
    "version": 2
   },
   "file_extension": ".py",
   "mimetype": "text/x-python",
   "name": "python",
   "nbconvert_exporter": "python",
   "pygments_lexer": "ipython2",
   "version": "2.7.12"
  }
 },
 "nbformat": 4,
 "nbformat_minor": 0
}
