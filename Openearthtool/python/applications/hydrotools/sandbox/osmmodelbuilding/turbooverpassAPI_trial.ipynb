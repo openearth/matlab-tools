{
 "cells": [
  {
   "cell_type": "markdown",
   "metadata": {},
   "source": [
    "Try-out automatic downloads of OSM data via turbo-overpass API:\n",
    "http://wiki.openstreetmap.org/wiki/Overpass_API#Python_API\n",
    "\n",
    "\n",
    "a python wrapper is provided by Martijn van Exel via github\n",
    "https://github.com/mvexel/overpass-api-python-wrapper\n",
    "\n",
    "install via pip (not available on conda repos)\n",
    "\"pip install overpass\""
   ]
  },
  {
   "cell_type": "code",
   "execution_count": 12,
   "metadata": {},
   "outputs": [
    {
     "name": "stdout",
     "output_type": "stream",
     "text": [
      "[{\"geometry\": {\"coordinates\": [4.35839, 52.0114017], \"type\": \"Point\"}, \"id\": 274247451, \"properties\": {\"is_in\": \"NL\", \"is_in:continent\": \"Europe\", \"is_in:country\": \"The Netherlands\", \"is_in:country_code\": \"NL\", \"is_in:province\": \"South Holland\", \"name\": \"Delft\", \"name:carnaval\": \"Kabbelgat\", \"name:el\": \"\\u039d\\u03c4\\u03b5\\u03bb\\u03c6\\u03c4\", \"name:fa\": \"\\u062f\\u0644\\u0641\\u062a\", \"name:he\": \"\\u05d3\\u05dc\\u05e4\\u05d8\", \"name:ja\": \"\\u30c7\\u30eb\\u30d5\\u30c8\", \"name:ko\": \"\\ub378\\ud504\\ud2b8\", \"name:la\": \"Delphi\", \"name:nds\": \"Delft\", \"name:ru\": \"\\u0414\\u0435\\u043b\\u0444\\u0442\", \"name:sr\": \"\\u0414\\u0435\\u043b\\u0444\\u0442\", \"name:zh\": \"\\u4ee3\\u5c14\\u592b\\u7279\", \"place\": \"city\", \"population\": \"101022\", \"website\": \"http://www.delft.nl\", \"wikipedia\": \"nl:Delft\"}, \"type\": \"Feature\"}]\n"
     ]
    }
   ],
   "source": [
    "import overpass\n",
    "api = overpass.API()\n",
    "\n",
    "# get city with name Delft\n",
    "response = api.Get('node[\"place\"=\"city\"][\"name\"=\"Delft\"]')\n",
    "\n",
    "# response in geojson\n",
    "from pprint import pprint\n",
    "pprint(response['features'])"
   ]
  },
  {
   "cell_type": "markdown",
   "metadata": {},
   "source": [
    "response typically in geojson format. This can be visualized using folium "
   ]
  },
  {
   "cell_type": "code",
   "execution_count": 13,
   "metadata": {},
   "outputs": [
    {
     "data": {
      "text/html": [
       "<div style=\"width:100%;\"><div style=\"position:relative;width:100%;height:0;padding-bottom:60%;\"><iframe src=\"data:text/html;base64,CiAgICAgICAgPCFET0NUWVBFIGh0bWw+CiAgICAgICAgPGhlYWQ+CiAgICAgICAgICAgIAogICAgICAgIAogICAgICAgICAgICA8bWV0YSBodHRwLWVxdWl2PSJjb250ZW50LXR5cGUiIGNvbnRlbnQ9InRleHQvaHRtbDsgY2hhcnNldD1VVEYtOCIgLz4KICAgICAgICAKICAgICAgICAgICAgCiAgICAgICAgCiAgICAgICAgICAgIDxzY3JpcHQgc3JjPSJodHRwczovL2NkbmpzLmNsb3VkZmxhcmUuY29tL2FqYXgvbGlicy9sZWFmbGV0LzAuNy4zL2xlYWZsZXQuanMiPjwvc2NyaXB0PgogICAgICAgIAogICAgICAgIAogICAgICAgIAogICAgICAgICAgICAKICAgICAgICAKICAgICAgICAgICAgPHNjcmlwdCBzcmM9Imh0dHBzOi8vYWpheC5nb29nbGVhcGlzLmNvbS9hamF4L2xpYnMvanF1ZXJ5LzEuMTEuMS9qcXVlcnkubWluLmpzIj48L3NjcmlwdD4KICAgICAgICAKICAgICAgICAKICAgICAgICAKICAgICAgICAgICAgCiAgICAgICAgCiAgICAgICAgICAgIDxzY3JpcHQgc3JjPSJodHRwczovL21heGNkbi5ib290c3RyYXBjZG4uY29tL2Jvb3RzdHJhcC8zLjIuMC9qcy9ib290c3RyYXAubWluLmpzIj48L3NjcmlwdD4KICAgICAgICAKICAgICAgICAKICAgICAgICAKICAgICAgICAgICAgCiAgICAgICAgCiAgICAgICAgICAgIDxzY3JpcHQgc3JjPSJodHRwczovL2NkbmpzLmNsb3VkZmxhcmUuY29tL2FqYXgvbGlicy9MZWFmbGV0LmF3ZXNvbWUtbWFya2Vycy8yLjAuMi9sZWFmbGV0LmF3ZXNvbWUtbWFya2Vycy5taW4uanMiPjwvc2NyaXB0PgogICAgICAgIAogICAgICAgIAogICAgICAgIAogICAgICAgICAgICAKICAgICAgICAKICAgICAgICAgICAgPHNjcmlwdCBzcmM9Imh0dHBzOi8vY2RuanMuY2xvdWRmbGFyZS5jb20vYWpheC9saWJzL2xlYWZsZXQubWFya2VyY2x1c3Rlci8wLjQuMC9sZWFmbGV0Lm1hcmtlcmNsdXN0ZXItc3JjLmpzIj48L3NjcmlwdD4KICAgICAgICAKICAgICAgICAKICAgICAgICAKICAgICAgICAgICAgCiAgICAgICAgCiAgICAgICAgICAgIDxzY3JpcHQgc3JjPSJodHRwczovL2NkbmpzLmNsb3VkZmxhcmUuY29tL2FqYXgvbGlicy9sZWFmbGV0Lm1hcmtlcmNsdXN0ZXIvMC40LjAvbGVhZmxldC5tYXJrZXJjbHVzdGVyLmpzIj48L3NjcmlwdD4KICAgICAgICAKICAgICAgICAKICAgICAgICAKICAgICAgICAgICAgCiAgICAgICAgCiAgICAgICAgICAgIDxsaW5rIHJlbD0ic3R5bGVzaGVldCIgaHJlZj0iaHR0cHM6Ly9jZG5qcy5jbG91ZGZsYXJlLmNvbS9hamF4L2xpYnMvbGVhZmxldC8wLjcuMy9sZWFmbGV0LmNzcyIgLz4KICAgICAgICAKICAgICAgICAKICAgICAgICAKICAgICAgICAgICAgCiAgICAgICAgCiAgICAgICAgICAgIDxsaW5rIHJlbD0ic3R5bGVzaGVldCIgaHJlZj0iaHR0cHM6Ly9tYXhjZG4uYm9vdHN0cmFwY2RuLmNvbS9ib290c3RyYXAvMy4yLjAvY3NzL2Jvb3RzdHJhcC5taW4uY3NzIiAvPgogICAgICAgIAogICAgICAgIAogICAgICAgIAogICAgICAgICAgICAKICAgICAgICAKICAgICAgICAgICAgPGxpbmsgcmVsPSJzdHlsZXNoZWV0IiBocmVmPSJodHRwczovL21heGNkbi5ib290c3RyYXBjZG4uY29tL2Jvb3RzdHJhcC8zLjIuMC9jc3MvYm9vdHN0cmFwLXRoZW1lLm1pbi5jc3MiIC8+CiAgICAgICAgCiAgICAgICAgCiAgICAgICAgCiAgICAgICAgICAgIAogICAgICAgIAogICAgICAgICAgICA8bGluayByZWw9InN0eWxlc2hlZXQiIGhyZWY9Imh0dHBzOi8vbWF4Y2RuLmJvb3RzdHJhcGNkbi5jb20vZm9udC1hd2Vzb21lLzQuMS4wL2Nzcy9mb250LWF3ZXNvbWUubWluLmNzcyIgLz4KICAgICAgICAKICAgICAgICAKICAgICAgICAKICAgICAgICAgICAgCiAgICAgICAgCiAgICAgICAgICAgIDxsaW5rIHJlbD0ic3R5bGVzaGVldCIgaHJlZj0iaHR0cHM6Ly9jZG5qcy5jbG91ZGZsYXJlLmNvbS9hamF4L2xpYnMvTGVhZmxldC5hd2Vzb21lLW1hcmtlcnMvMi4wLjIvbGVhZmxldC5hd2Vzb21lLW1hcmtlcnMuY3NzIiAvPgogICAgICAgIAogICAgICAgIAogICAgICAgIAogICAgICAgICAgICAKICAgICAgICAKICAgICAgICAgICAgPGxpbmsgcmVsPSJzdHlsZXNoZWV0IiBocmVmPSJodHRwczovL2NkbmpzLmNsb3VkZmxhcmUuY29tL2FqYXgvbGlicy9sZWFmbGV0Lm1hcmtlcmNsdXN0ZXIvMC40LjAvTWFya2VyQ2x1c3Rlci5EZWZhdWx0LmNzcyIgLz4KICAgICAgICAKICAgICAgICAKICAgICAgICAKICAgICAgICAgICAgCiAgICAgICAgCiAgICAgICAgICAgIDxsaW5rIHJlbD0ic3R5bGVzaGVldCIgaHJlZj0iaHR0cHM6Ly9jZG5qcy5jbG91ZGZsYXJlLmNvbS9hamF4L2xpYnMvbGVhZmxldC5tYXJrZXJjbHVzdGVyLzAuNC4wL01hcmtlckNsdXN0ZXIuY3NzIiAvPgogICAgICAgIAogICAgICAgIAogICAgICAgIAogICAgICAgICAgICAKICAgICAgICAKICAgICAgICAgICAgPGxpbmsgcmVsPSJzdHlsZXNoZWV0IiBocmVmPSJodHRwczovL3Jhdy5naXRodWJ1c2VyY29udGVudC5jb20vcHl0aG9uLXZpc3VhbGl6YXRpb24vZm9saXVtL21hc3Rlci9mb2xpdW0vdGVtcGxhdGVzL2xlYWZsZXQuYXdlc29tZS5yb3RhdGUuY3NzIiAvPgogICAgICAgIAogICAgICAgIAogICAgICAgIAogICAgICAgICAgICAKICAgICAgICAgICAgPHN0eWxlPgoKICAgICAgICAgICAgaHRtbCwgYm9keSB7CiAgICAgICAgICAgICAgICB3aWR0aDogMTAwJTsKICAgICAgICAgICAgICAgIGhlaWdodDogMTAwJTsKICAgICAgICAgICAgICAgIG1hcmdpbjogMDsKICAgICAgICAgICAgICAgIHBhZGRpbmc6IDA7CiAgICAgICAgICAgICAgICB9CgogICAgICAgICAgICAjbWFwIHsKICAgICAgICAgICAgICAgIHBvc2l0aW9uOmFic29sdXRlOwogICAgICAgICAgICAgICAgdG9wOjA7CiAgICAgICAgICAgICAgICBib3R0b206MDsKICAgICAgICAgICAgICAgIHJpZ2h0OjA7CiAgICAgICAgICAgICAgICBsZWZ0OjA7CiAgICAgICAgICAgICAgICB9CiAgICAgICAgICAgIDwvc3R5bGU+CiAgICAgICAgICAgIAogICAgICAgIAogICAgICAgICAgICAKICAgICAgICAgICAgPHN0eWxlPiAjbWFwX2QwN2YzZmE4ZTIxMzRmMDM4MTlhZTNmNDliOGEyMGM3IHsKICAgICAgICAgICAgICAgIHBvc2l0aW9uIDogcmVsYXRpdmU7CiAgICAgICAgICAgICAgICB3aWR0aCA6IDEwMC4wJTsKICAgICAgICAgICAgICAgIGhlaWdodDogMTAwLjAlOwogICAgICAgICAgICAgICAgbGVmdDogMC4wJTsKICAgICAgICAgICAgICAgIHRvcDogMC4wJTsKICAgICAgICAgICAgICAgIH0KICAgICAgICAgICAgPC9zdHlsZT4KICAgICAgICAKICAgICAgICAKICAgICAgICAKICAgICAgICA8L2hlYWQ+CiAgICAgICAgPGJvZHk+CiAgICAgICAgICAgIAogICAgICAgIAogICAgICAgICAgICAKICAgICAgICAgICAgPGRpdiBjbGFzcz0iZm9saXVtLW1hcCIgaWQ9Im1hcF9kMDdmM2ZhOGUyMTM0ZjAzODE5YWUzZjQ5YjhhMjBjNyIgPjwvZGl2PgogICAgICAgIAogICAgICAgIAogICAgICAgIAogICAgICAgIDwvYm9keT4KICAgICAgICA8c2NyaXB0PgogICAgICAgICAgICAKICAgICAgICAKICAgICAgICAgICAgCgogICAgICAgICAgICB2YXIgc291dGhXZXN0ID0gTC5sYXRMbmcoLTkwLCAtMTgwKTsKICAgICAgICAgICAgdmFyIG5vcnRoRWFzdCA9IEwubGF0TG5nKDkwLCAxODApOwogICAgICAgICAgICB2YXIgYm91bmRzID0gTC5sYXRMbmdCb3VuZHMoc291dGhXZXN0LCBub3J0aEVhc3QpOwoKICAgICAgICAgICAgdmFyIG1hcF9kMDdmM2ZhOGUyMTM0ZjAzODE5YWUzZjQ5YjhhMjBjNyA9IEwubWFwKCdtYXBfZDA3ZjNmYThlMjEzNGYwMzgxOWFlM2Y0OWI4YTIwYzcnLCB7CiAgICAgICAgICAgICAgICAgICAgICAgICAgICAgICAgICAgICAgICAgICBjZW50ZXI6WzUyLDQuM10sCiAgICAgICAgICAgICAgICAgICAgICAgICAgICAgICAgICAgICAgICAgICB6b29tOiA4LAogICAgICAgICAgICAgICAgICAgICAgICAgICAgICAgICAgICAgICAgICAgbWF4Qm91bmRzOiBib3VuZHMsCiAgICAgICAgICAgICAgICAgICAgICAgICAgICAgICAgICAgICAgICAgICBsYXllcnM6IFtdLAogICAgICAgICAgICAgICAgICAgICAgICAgICAgICAgICAgICAgICAgICAgY3JzOiBMLkNSUy5FUFNHMzg1NwogICAgICAgICAgICAgICAgICAgICAgICAgICAgICAgICAgICAgICAgIH0pOwogICAgICAgICAgICAKICAgICAgICAKICAgICAgICAKICAgICAgICAgICAgCiAgICAgICAgICAgIHZhciB0aWxlX2xheWVyX2FmYjA2ZWQ3ZGI0YzQyNjA5NTY0NTE1ZTViYzA4YTgyID0gTC50aWxlTGF5ZXIoCiAgICAgICAgICAgICAgICAnaHR0cHM6Ly97c30udGlsZS5vcGVuc3RyZWV0bWFwLm9yZy97en0ve3h9L3t5fS5wbmcnLAogICAgICAgICAgICAgICAgewogICAgICAgICAgICAgICAgICAgIG1heFpvb206IDE4LAogICAgICAgICAgICAgICAgICAgIG1pblpvb206IDEsCiAgICAgICAgICAgICAgICAgICAgYXR0cmlidXRpb246ICdEYXRhIGJ5IDxhIGhyZWY9Imh0dHA6Ly9vcGVuc3RyZWV0bWFwLm9yZyI+T3BlblN0cmVldE1hcDwvYT4sIHVuZGVyIDxhIGhyZWY9Imh0dHA6Ly93d3cub3BlbnN0cmVldG1hcC5vcmcvY29weXJpZ2h0Ij5PRGJMPC9hPi4nLAogICAgICAgICAgICAgICAgICAgIGRldGVjdFJldGluYTogZmFsc2UKICAgICAgICAgICAgICAgICAgICB9CiAgICAgICAgICAgICAgICApLmFkZFRvKG1hcF9kMDdmM2ZhOGUyMTM0ZjAzODE5YWUzZjQ5YjhhMjBjNyk7CgogICAgICAgIAogICAgICAgIAogICAgICAgICAgICAKICAgICAgICAgICAgICAgIHZhciBnZW9fanNvbl8zMmUyZTk4Njg0YTM0MGI4OWJhNGUzNGIxMjA4ZGYwNSA9IEwuZ2VvSnNvbigKICAgICAgICAgICAgICAgICAgICB7ImZlYXR1cmVzIjogW3siZ2VvbWV0cnkiOiB7ImNvb3JkaW5hdGVzIjogWzQuMzU4MzksIDUyLjAxMTQwMTddLCAidHlwZSI6ICJQb2ludCJ9LCAiaWQiOiAyNzQyNDc0NTEsICJwcm9wZXJ0aWVzIjogeyJpc19pbiI6ICJOTCIsICJpc19pbjpjb250aW5lbnQiOiAiRXVyb3BlIiwgImlzX2luOmNvdW50cnkiOiAiVGhlIE5ldGhlcmxhbmRzIiwgImlzX2luOmNvdW50cnlfY29kZSI6ICJOTCIsICJpc19pbjpwcm92aW5jZSI6ICJTb3V0aCBIb2xsYW5kIiwgIm5hbWUiOiAiRGVsZnQiLCAibmFtZTpjYXJuYXZhbCI6ICJLYWJiZWxnYXQiLCAibmFtZTplbCI6ICJcdTAzOWRcdTAzYzRcdTAzYjVcdTAzYmJcdTAzYzZcdTAzYzQiLCAibmFtZTpmYSI6ICJcdTA2MmZcdTA2NDRcdTA2NDFcdTA2MmEiLCAibmFtZTpoZSI6ICJcdTA1ZDNcdTA1ZGNcdTA1ZTRcdTA1ZDgiLCAibmFtZTpqYSI6ICJcdTMwYzdcdTMwZWJcdTMwZDVcdTMwYzgiLCAibmFtZTprbyI6ICJcdWIzNzhcdWQ1MDRcdWQyYjgiLCAibmFtZTpsYSI6ICJEZWxwaGkiLCAibmFtZTpuZHMiOiAiRGVsZnQiLCAibmFtZTpydSI6ICJcdTA0MTRcdTA0MzVcdTA0M2JcdTA0NDRcdTA0NDIiLCAibmFtZTpzciI6ICJcdTA0MTRcdTA0MzVcdTA0M2JcdTA0NDRcdTA0NDIiLCAibmFtZTp6aCI6ICJcdTRlZTNcdTVjMTRcdTU5MmJcdTcyNzkiLCAicGxhY2UiOiAiY2l0eSIsICJwb3B1bGF0aW9uIjogIjEwMTAyMiIsICJzdHlsZSI6IHt9LCAid2Vic2l0ZSI6ICJodHRwOi8vd3d3LmRlbGZ0Lm5sIiwgIndpa2lwZWRpYSI6ICJubDpEZWxmdCJ9LCAidHlwZSI6ICJGZWF0dXJlIn1dLCAidHlwZSI6ICJGZWF0dXJlQ29sbGVjdGlvbiJ9KQogICAgICAgICAgICAgICAgICAgIC5hZGRUbyhtYXBfZDA3ZjNmYThlMjEzNGYwMzgxOWFlM2Y0OWI4YTIwYzcpOwogICAgICAgICAgICAgICAgZ2VvX2pzb25fMzJlMmU5ODY4NGEzNDBiODliYTRlMzRiMTIwOGRmMDUuc2V0U3R5bGUoZnVuY3Rpb24oZmVhdHVyZSkge3JldHVybiBmZWF0dXJlLnByb3BlcnRpZXMuc3R5bGU7fSk7CiAgICAgICAgICAgIAogICAgICAgIAogICAgICAgIAogICAgICAgIDwvc2NyaXB0PgogICAgICAgIA==\" style=\"position:absolute;width:100%;height:100%;left:0;top:0;\"></iframe></div></div>"
      ]
     },
     "output_type": "execute_result",
     "metadata": {}
    }
   ],
   "source": [
    "# now visualize with folium\n",
    "%matplotlib inline\n",
    "import folium\n",
    "\n",
    "\n",
    "delft_map = folium.Map(location=[52, 4.3],  # NOTE: folium uses latlon format, instead of lonlat from geojson\n",
    "                       zoom_start=8)\n",
    "\n",
    "folium.GeoJson(response,\n",
    "               name='delft'\n",
    "              ).add_to(delft_map)\n",
    "\n",
    "delft_map"
   ]
  },
  {
   "cell_type": "markdown",
   "metadata": {},
   "source": [
    "writing to file geojson"
   ]
  },
  {
   "cell_type": "code",
   "metadata": {},
   "outputs": [],
   "source": [
    "import geojson\n",
    "\n",
    "def to_geojson(fn, js, epsg='4326'):\n",
    "    \"\"\"writes a list of features to a geojson as a featurecollection\"\"\"\n",
    "\n",
    "    crs = geojson.crs.Named(properties={\"name\": \"urn:ogc:def:crs:EPSG::{}\".format(epsg)})\n",
    "    fcol = geojson.FeatureCollection(js['features'], crs=crs)\n",
    "\n",
    "    # write file\n",
    "    with open(fn, 'w') as f:\n",
    "        geojson.dump(fcol, f)"
   ]
  },
  {
   "cell_type": "code",
   "metadata": {},
   "outputs": [],
   "source": [
    "# write response to geojson file\n",
    "gjson_fn = r'd:\\temp\\OSM_test\\Delft.geojson'\n",
    "to_geojson(gjson_fn, response)"
   ]
  },
  {
   "cell_type": "markdown",
   "metadata": {},
   "source": [
    "now try to get all waterways in bbox"
   ]
  },
  {
   "cell_type": "code",
   "execution_count": 16,
   "metadata": {},
   "outputs": [],
   "source": [
    "# all waterways -> slow!\n",
    "# waterway = api.Get('way[\"waterway\"!~\".\"](14.2,120.4,15.2,121);') ## bbox in north, west, south, east\n",
    "\n",
    "# download all rivers\n",
    "rivers = api.Get('way[\"waterway\"=\"river\"](14.2,120.4,15.2,121);') ## bbox in north, west, south, east\n",
    "\n",
    "# plot\n",
    "river_map = folium.Map(location=[14.8, 120.5],  # NOTE: folium uses latlon format, instead of lonlat from geojson\n",
    "                       zoom_start=10)\n",
    "\n",
    "folium.GeoJson(rivers,\n",
    "               name='delft'\n",
    "              ).add_to(river_map)\n",
    "\n",
    "river_map"
   ]
  },
  {
   "cell_type": "code",
   "execution_count": 3,
   "metadata": {},
   "outputs": [],
   "source": [
    "# some utiles that might be usefull\n",
    "import numpy as np\n",
    "def flip_geojson_coordinates(geo):\n",
    "    \"\"\"funciton to flip coordinates from latlon to lonlat and vica versa\"\"\"\n",
    "    if isinstance(geo, dict):\n",
    "        for k, v in geo.iteritems():\n",
    "            if k == \"coordinates\":\n",
    "                z = np.asarray(geo[k])\n",
    "                f = z.flatten()\n",
    "                geo[k] = np.dstack((f[1::2], f[::2])).reshape(z.shape).tolist()\n",
    "            else:\n",
    "                flip_geojson_coordinates(v)\n",
    "    elif isinstance(geo, list):\n",
    "        for k in geo:\n",
    "            flip_geojson_coordinates(k)"
   ]
  }
 ],
 "metadata": {
  "kernelspec": {
   "display_name": "Python [Root]",
   "language": "python",
   "name": "Python [Root]"
  },
  "language_info": {
   "codemirror_mode": {
    "name": "ipython",
    "version": 2.0
   },
   "file_extension": ".py",
   "mimetype": "text/x-python",
   "name": "python",
   "nbconvert_exporter": "python",
   "pygments_lexer": "ipython2",
   "version": "2.7.12"
  }
 },
 "nbformat": 4,
 "nbformat_minor": 0
}