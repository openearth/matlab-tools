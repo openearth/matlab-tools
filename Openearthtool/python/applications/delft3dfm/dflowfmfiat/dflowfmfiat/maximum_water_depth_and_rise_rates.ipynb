{
 "cells": [
  {
   "cell_type": "markdown",
   "metadata": {},
   "source": [
    "<h1> Maximum water depth and speed in DFlowFM </h1>"
   ]
  },
  {
   "cell_type": "code",
   "execution_count": null,
   "metadata": {},
   "outputs": [],
   "source": []
  },
  {
   "cell_type": "markdown",
   "metadata": {},
   "source": [
    "<big>\n",
    "<ul>\n",
    "<li>\n",
    "    <b>Settings are read from the <tt>*.fou</tt> file, e.g:</b><br>\n",
    "    <tt>\n",
    "        wl    <font color=\"#008800\">182</font> <font color=\"#0000ff\">184</font>    0    1.000       0.0  max<br>\n",
    "uc    182 184    0    1.000       0.0  <font color=\"#ff0000\"><b>1</b></font> max<br><br>        \n",
    "    </tt><br>\n",
    "    Explanation of the columns:<br>\n",
    "    <ul>\n",
    "        <li> variable </li>\n",
    "        <li> start time, in user specified time units </li>\n",
    "        <li> stop time, in user specified time units </li>\n",
    "        <li><font color=\"#888888\"> mode, only relevant for Fourier analysis </font></li>\n",
    "        <li><font color=\"#888888\"> correction parameter, only relevant for Fourier analysis </font></li>\n",
    "        <li> [layer number, for some 3D variables, will be removed later]</li>\n",
    "        <li> operator, can be <b>min, max or avg</b> (averaging can also be calculated as fourier mode 0)</li>\n",
    "    </ul>\n",
    "    <br>\n",
    "    \n",
    "    \n",
    "</li>\n",
    "<li>\n",
    "    <b>Referenced from the <tt>*.mdu</tt> file:</b><br>\n",
    "<tt>\n",
    "[time]\n",
    "...<br>\n",
    "DtUser                            = 120. </tt><b>(User timestep in seconds!)</b><tt><br>\n",
    "Tunit                             = H <br>\n",
    "TStart                            = <font color=\"#008800\">182.</font> </tt><b>(This is in the user specified time unit!)</b><tt><br>\n",
    "TStop                             = <font color=\"#0000ff\">184.</font> <br><br>\n",
    "[output]<br>\n",
    "FouFile                     = maxima.fou <br>\n",
    "...<br><br>\n",
    "    </tt>\n",
    "</li>    \n",
    "<li>\n",
    "<b>Supported quantities:</b>\n",
    "    <ul>\n",
    "        <li> Water level (<tt>var=wl</tt>)</li>\n",
    "        <li> Water depth (comes automatically with the water level)</li>\n",
    "        <li> Cell-centred speed (=velocity magnitude) (<tt>var=uc</tt>)</li>\n",
    "    </ul>\n",
    " </li>\n",
    "</ul>\n",
    "</big>"
   ]
  },
  {
   "cell_type": "markdown",
   "metadata": {},
   "source": [
    "<h1> Rise rates from a DFlowFM classmap file</h1>"
   ]
  },
  {
   "cell_type": "markdown",
   "metadata": {},
   "source": [
    "The rise rates are serived directly from the classmap files and written in the TIFF format<br>\n"
   ]
  },
  {
   "cell_type": "code",
   "execution_count": 2,
   "metadata": {},
   "outputs": [
    {
     "name": "stderr",
     "output_type": "stream",
     "text": [
      "Calculating rising speed Node : 00025223,    100%\n",
      "Opening new TIFF:\n",
      "Filling pixels:\n",
      "Writing Band 1 ....  : 00025223,    100%Writing to TIFF Node : 00001145,      5%Writing to TIFF Node : 00001493,      6%Writing to TIFF Node : 00003491,     14%Writing to TIFF Node : 00004646,     18%Writing to TIFF Node : 00008489,     34%Writing to TIFF Node : 00011488,     46%Writing to TIFF Node : 00014487,     57%Writing to TIFF Node : 00017486,     69%Writing to TIFF Node : 00019985,     79%Writing to TIFF Node : 00021984,     87%Writing to TIFF Node : 00023983,     95%\n"
     ]
    }
   ],
   "source": [
    "import numpy as np\n",
    "import math\n",
    "import os, sys\n",
    "import ugfile as uf\n",
    "import tiffwriter as tw\n",
    "import output_settings as c\n",
    "import risingspeeds\n",
    "\n",
    "fnin = 'case1\\\\bw_case1_clm.nc'\n",
    "my_varname = 'mesh2d_waterdepth' \n",
    "\n",
    "# Open classmap file and derive rising speeds\n",
    "ds = uf.DatasetUG(fnin,'r')\n",
    "bbox, polygons, coords = ds.get_polygons(my_varname) \n",
    "ncvar = ds.variables[my_varname]\n",
    "nctim = ds.variables[\"time\"]\n",
    "rising_speed_calc = risingspeeds.IncrementalConverter(ncvar, nctim, 0.02, 1.5)\n",
    "rising_speeds = rising_speed_calc.getRisingSpeeds(verbose=True)\n",
    "\n",
    "#bbox, polygons, coords = ds.get_polygons(my_varname) \n",
    "bbox[0] = np.floor((bbox[0]-c.lower_left[0])/c.xres)*c.xres + c.lower_left[0]\n",
    "bbox[1] = np.floor((bbox[1]-c.lower_left[1])/c.yres)*c.yres + c.lower_left[1]\n",
    "\n",
    "\n",
    "# Write calculated rising speeds to tiff\n",
    "my_vardata = rising_speeds    \n",
    "tiffname   = 'rising_speeds.tif'\n",
    "nband = 1\n",
    "\n",
    "sys.stderr.write(\"\\n\")\n",
    "sys.stderr.write(\"Opening new TIFF:\\n\")\n",
    "my_tiff = tw.tiffwriter(tiffname, bbox, [c.xres, c.yres], nband, c.nptype, c.epsg, flipped=True)\n",
    "\n",
    "sys.stderr.write(\"Filling pixels:\\n\")\n",
    "pixels = my_tiff.from_polygons(polygons, my_vardata, c.nodata)\n",
    "\n",
    "sys.stderr.write(\"Writing Band 1 .... \\n\")\n",
    "my_tiff.fillband(1, pixels, c.nodata)\n",
    "\n",
    "my_tiff.close()\n",
    "ds.close()\n"
   ]
  },
  {
   "cell_type": "code",
   "execution_count": null,
   "metadata": {},
   "outputs": [],
   "source": []
  }
 ],
 "metadata": {
  "kernelspec": {
   "display_name": "Python 3",
   "language": "python",
   "name": "python3"
  },
  "language_info": {
   "codemirror_mode": {
    "name": "ipython",
    "version": 3
   },
   "file_extension": ".py",
   "mimetype": "text/x-python",
   "name": "python",
   "nbconvert_exporter": "python",
   "pygments_lexer": "ipython3",
   "version": "3.6.7"
  }
 },
 "nbformat": 4,
 "nbformat_minor": 2
}
