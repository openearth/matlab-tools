{
 "metadata": {
  "name": ""
 },
 "nbformat": 3,
 "nbformat_minor": 0,
 "worksheets": [
  {
   "cells": [
    {
     "cell_type": "code",
     "collapsed": false,
     "input": [
      "import pandas.rpy.common\n",
      "\n",
      "def annual_means(station=\"DEN HELDER\"):\n",
      "    data = pandas.rpy.common.load_data('dutch', 'sealevel')\n",
      "    stationdf = filter(lambda x:x['name'] ==station, data.values())[0]['data']\n",
      "    return stationdf"
     ],
     "language": "python",
     "metadata": {},
     "outputs": [],
     "prompt_number": 3
    },
    {
     "cell_type": "code",
     "collapsed": false,
     "input": [
      "df = annual_means()"
     ],
     "language": "python",
     "metadata": {},
     "outputs": [],
     "prompt_number": 4
    },
    {
     "cell_type": "code",
     "collapsed": false,
     "input": [
      "import io\n",
      "stream = io.BytesIO()\n",
      "fig, ax = plt.subplots()\n",
      "df.plot(x='year', y='waterlevel', ax=ax)\n",
      "fig.savefig(stream)"
     ],
     "language": "python",
     "metadata": {},
     "outputs": [
      {
       "metadata": {},
       "output_type": "display_data",
       "png": "[encoded data removed]",
       "text": [
        "<matplotlib.figure.Figure at 0x10a927cd0>"
       ]
      }
     ],
     "prompt_number": 8
    },
    {
     "cell_type": "code",
     "collapsed": false,
     "input": [
      "import rpy2.robjects\n",
      "from rpy2.robjects.packages import importr"
     ],
     "language": "python",
     "metadata": {},
     "outputs": [],
     "prompt_number": 16
    },
    {
     "cell_type": "code",
     "collapsed": false,
     "input": [
      "sealevel = importr('sealevel')\n",
      "fit = sealevel.nodal_fit(a[5][2])"
     ],
     "language": "python",
     "metadata": {},
     "outputs": [],
     "prompt_number": 30
    },
    {
     "cell_type": "code",
     "collapsed": false,
     "input": [
      "fit_dict = {fit.names[i]: fit[i] for i in range(len(fit))}\n",
      "fit_dict.keys()"
     ],
     "language": "python",
     "metadata": {},
     "outputs": [
      {
       "metadata": {},
       "output_type": "pyout",
       "prompt_number": 71,
       "text": [
        "['qr',\n",
        " 'terms',\n",
        " 'effects',\n",
        " 'xlevels',\n",
        " 'rank',\n",
        " 'df.residual',\n",
        " 'fitted.values',\n",
        " 'call',\n",
        " 'model',\n",
        " 'assign',\n",
        " 'coefficients',\n",
        " 'residuals']"
       ]
      }
     ],
     "prompt_number": 71
    },
    {
     "cell_type": "code",
     "collapsed": false,
     "input": [
      "from rpy2.robjects import r\n",
      "pandas.rpy.common.convert_robj(r(\"\"\"\n",
      "library(sealevel)\n",
      "data(dutch)\n",
      "dh <- dutch[[6]]\n",
      "df <- dh$data\n",
      "fit <- nodal.fit(dh$zoo)\n",
      "df$predicted <- predict(fit)\n",
      "df\n",
      "\"\"\"))\n"
     ],
     "language": "python",
     "metadata": {},
     "outputs": [
      {
       "html": [
        "<pre>\n",
        "&lt;class 'pandas.core.frame.DataFrame'&gt;\n",
        "Int64Index: 179 entries, 1 to 179\n",
        "Data columns (total 3 columns):\n",
        "year          179  non-null values\n",
        "waterlevel    179  non-null values\n",
        "predicted     179  non-null values\n",
        "dtypes: float64(2), int32(1)\n",
        "</pre>"
       ],
       "metadata": {},
       "output_type": "pyout",
       "prompt_number": 93,
       "text": [
        "<class 'pandas.core.frame.DataFrame'>\n",
        "Int64Index: 179 entries, 1 to 179\n",
        "Data columns (total 3 columns):\n",
        "year          179  non-null values\n",
        "waterlevel    179  non-null values\n",
        "predicted     179  non-null values\n",
        "dtypes: float64(2), int32(1)"
       ]
      }
     ],
     "prompt_number": 93
    },
    {
     "cell_type": "code",
     "collapsed": false,
     "input": [],
     "language": "python",
     "metadata": {},
     "outputs": [
      {
       "metadata": {},
       "output_type": "pyout",
       "prompt_number": 68,
       "text": [
        "<StrVector - Python:0x109e42518 / R:0x109452828>\n",
        "['qr', 'qraux', 'pivot', 'tol', 'rank']"
       ]
      }
     ],
     "prompt_number": 68
    },
    {
     "cell_type": "code",
     "collapsed": false,
     "input": [],
     "language": "python",
     "metadata": {},
     "outputs": []
    }
   ],
   "metadata": {}
  }
 ]
}