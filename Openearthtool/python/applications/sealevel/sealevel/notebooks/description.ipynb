{
 "metadata": {
  "name": "description"
 },
 "nbformat": 3,
 "nbformat_minor": 0,
 "worksheets": [
  {
   "cells": [
    {
     "cell_type": "code",
     "collapsed": false,
     "input": [
      "import rpy2.robjects\n"
     ],
     "language": "python",
     "metadata": {},
     "outputs": [],
     "prompt_number": 5
    },
    {
     "cell_type": "code",
     "collapsed": false,
     "input": [
      "from rpy2.robjects.packages import importr"
     ],
     "language": "python",
     "metadata": {},
     "outputs": [],
     "prompt_number": 6
    },
    {
     "cell_type": "code",
     "collapsed": false,
     "input": [
      "sealevel = importr('sealevel')"
     ],
     "language": "python",
     "metadata": {},
     "outputs": [],
     "prompt_number": 7
    },
    {
     "cell_type": "code",
     "collapsed": false,
     "input": [
      "fit = rpy2.robjects.r(\"nodal.fit\")(rpy2.robjects.r(\"dutch\")[5][2])"
     ],
     "language": "python",
     "metadata": {},
     "outputs": [],
     "prompt_number": 8
    },
    {
     "cell_type": "code",
     "collapsed": false,
     "input": [
      "summary = rpy2.robjects.r(\"summary\")(fit)"
     ],
     "language": "python",
     "metadata": {},
     "outputs": [],
     "prompt_number": 14
    },
    {
     "cell_type": "code",
     "collapsed": false,
     "input": [
      "summary"
     ],
     "language": "python",
     "metadata": {},
     "outputs": [
      {
       "output_type": "pyout",
       "prompt_number": 25,
       "text": [
        "<ListVector - Python:0x51b2170 / R:0x535dea0>\n",
        "[Vector, Formula, Float..., ..., Float..., Float..., Matrix]\n",
        "  call: <class 'rpy2.robjects.vectors.Vector'>\n",
        "  <Vector - Python:0x51b47a0 / R:0x4df7138>\n",
        "[RNULLType, Vector]\n",
        "  terms: <class 'rpy2.robjects.Formula'>\n",
        "  <Formula - Python:0x51b4758 / R:0x4df7b98>\n",
        "  residuals: <class 'rpy2.robjects.vectors.FloatVector'>\n",
        "  <FloatVector - Python:0x51b4878 / R:0x528ac90>\n",
        "[-1.326169, 2.097340, 2.965534, ..., 1.150662, -2.033844, -3.130602]\n",
        "  ...\n",
        "  call: <class 'rpy2.robjects.vectors.FloatVector'>\n",
        "  <FloatVector - Python:0x51b48c0 / R:0x4e28f48>\n",
        "[0.806275]\n",
        "  terms: <class 'rpy2.robjects.vectors.FloatVector'>\n",
        "  <FloatVector - Python:0x51b4908 / R:0x535d3e0>\n",
        "[247.943410, 3.000000, 175.000000]\n",
        "  residuals: <class 'rpy2.robjects.vectors.Matrix'>\n",
        "  <Matrix - Python:0x51b4a28 / R:0x535dd50>\n",
        "[0.010626, 0.000103, 0.000102, ..., -0.000004, -0.000131, 0.011179]"
       ]
      }
     ],
     "prompt_number": 25
    },
    {
     "cell_type": "code",
     "collapsed": false,
     "input": [
      "import rpy2.rinterface"
     ],
     "language": "python",
     "metadata": {},
     "outputs": [],
     "prompt_number": 27
    },
    {
     "cell_type": "code",
     "collapsed": false,
     "input": [
      "rpy2.robjects.conversion.ri2py(summary)"
     ],
     "language": "python",
     "metadata": {},
     "outputs": [
      {
       "output_type": "pyout",
       "prompt_number": 30,
       "text": [
        "<ListVector - Python:0x51b9710 / R:0x535dea0>\n",
        "[Vector, Formula, Float..., ..., Float..., Float..., Matrix]\n",
        "  call: <class 'rpy2.robjects.vectors.Vector'>\n",
        "  <Vector - Python:0x51b97a0 / R:0x4df7138>\n",
        "[RNULLType, Vector]\n",
        "  terms: <class 'rpy2.robjects.Formula'>\n",
        "  <Formula - Python:0x51b94d0 / R:0x4df7b98>\n",
        "  residuals: <class 'rpy2.robjects.vectors.FloatVector'>\n",
        "  <FloatVector - Python:0x51b9950 / R:0x528ac90>\n",
        "[-1.326169, 2.097340, 2.965534, ..., 1.150662, -2.033844, -3.130602]\n",
        "  ...\n",
        "  call: <class 'rpy2.robjects.vectors.FloatVector'>\n",
        "  <FloatVector - Python:0x51b9a28 / R:0x4e28f48>\n",
        "[0.806275]\n",
        "  terms: <class 'rpy2.robjects.vectors.FloatVector'>\n",
        "  <FloatVector - Python:0x51b9a70 / R:0x535d3e0>\n",
        "[247.943410, 3.000000, 175.000000]\n",
        "  residuals: <class 'rpy2.robjects.vectors.Matrix'>\n",
        "  <Matrix - Python:0x51b67e8 / R:0x535dd50>\n",
        "[0.010626, 0.000103, 0.000102, ..., -0.000004, -0.000131, 0.011179]"
       ]
      }
     ],
     "prompt_number": 30
    },
    {
     "cell_type": "code",
     "collapsed": false,
     "input": [
      "import pyramid_mako\n",
      "import mako\n",
      "lookup = pyramid_mako.TemplateLookup(directories=\"../templates\")\n",
      "T = lookup.get_template('model.mak')"
     ],
     "language": "python",
     "metadata": {},
     "outputs": [],
     "prompt_number": 58
    },
    {
     "cell_type": "code",
     "collapsed": false,
     "input": [
      "code = T.render(startyear=1890, endyear=2010, model=1, station=6)\n",
      "a = rpy2.robjects.r(code)\n",
      "pandas.rpy.common.convert_robj(a[0])"
     ],
     "language": "python",
     "metadata": {},
     "outputs": [
      {
       "html": [
        "<pre>\n",
        "&lt;class 'pandas.core.frame.DataFrame'&gt;\n",
        "Int64Index: 121 entries, 59 to 179\n",
        "Data columns (total 9 columns):\n",
        "year              121  non-null values\n",
        "waterlevel        121  non-null values\n",
        "predicted         121  non-null values\n",
        "prediction.fit    121  non-null values\n",
        "prediction.lwr    121  non-null values\n",
        "prediction.upr    121  non-null values\n",
        "confidence.fit    121  non-null values\n",
        "confidence.lwr    121  non-null values\n",
        "confidence.upr    121  non-null values\n",
        "dtypes: float64(8), int32(1)\n",
        "</pre>"
       ],
       "output_type": "pyout",
       "prompt_number": 68,
       "text": [
        "<class 'pandas.core.frame.DataFrame'>\n",
        "Int64Index: 121 entries, 59 to 179\n",
        "Data columns (total 9 columns):\n",
        "year              121  non-null values\n",
        "waterlevel        121  non-null values\n",
        "predicted         121  non-null values\n",
        "prediction.fit    121  non-null values\n",
        "prediction.lwr    121  non-null values\n",
        "prediction.upr    121  non-null values\n",
        "confidence.fit    121  non-null values\n",
        "confidence.lwr    121  non-null values\n",
        "confidence.upr    121  non-null values\n",
        "dtypes: float64(8), int32(1)"
       ]
      }
     ],
     "prompt_number": 68
    },
    {
     "cell_type": "code",
     "collapsed": false,
     "input": [],
     "language": "python",
     "metadata": {},
     "outputs": []
    }
   ],
   "metadata": {}
  }
 ]
}