{
 "metadata": {
  "name": "",
  "signature": "sha256:32ca49506552149a56b0f2cf4ecd6412feda80beb48569a5cfa3a979ed419e88"
 },
 "nbformat": 3,
 "nbformat_minor": 0,
 "worksheets": [
  {
   "cells": [
    {
     "cell_type": "code",
     "collapsed": false,
     "input": [
      "import netCDF4\n",
      "import matplotlib.pyplot as plt\n",
      "import numpy as np\n",
      "import pandas\n",
      "import datetime\n",
      "import scipy.interpolate \n",
      "import pytz\n",
      "import dateutil.parser\n",
      "import bisect\n",
      "from numpy import deg2rad\n",
      "import matplotlib\n",
      "import openearthtools.physics.tide\n",
      "%matplotlib inline"
     ],
     "language": "python",
     "metadata": {},
     "outputs": [],
     "prompt_number": 53
    },
    {
     "cell_type": "code",
     "collapsed": false,
     "input": [
      "\n",
      "\n",
      "\n",
      "def interpolate_window(lon_i, lat_i, lon, lat, arr, circular=False):\n",
      "    \"\"\"\n",
      "    interpolate tide with a window (of 4 by default)\n",
      "    lon_i, lat_i are the point to interpolate the tide on\n",
      "    lon, lat are the spatial dimensions of arr\n",
      "    if arr is circular it is split up into 2 components and put back together\n",
      "    \"\"\"\n",
      "    \n",
      "    # lookup position of the point\n",
      "    lon_index = bisect.bisect(lon, lon_i)\n",
      "    lat_index = bisect.bisect(lat, lat_i)\n",
      "    # define a window size (for spline interpolation)\n",
      "    window = 4\n",
      "    \n",
      "    # determine the shape\n",
      "    lon_min = max(lon_index-window, 0)\n",
      "    lon_max = min(lon_index+window, lon.shape[0]-1)\n",
      "    lat_min = max(lat_index-window, 0)\n",
      "    lat_max = min(lat_index+window, lat.shape[0]-1)\n",
      "    \n",
      "    lonslice = slice(lon_min, lon_max)\n",
      "    latslice = slice(lat_min, lat_max)\n",
      "    Lat = lat[latslice]\n",
      "    Lon = lon[lonslice]\n",
      "    A = arr[:,lonslice, latslice]\n",
      "    results = []\n",
      "    for i in range(A.shape[0]):\n",
      "        if circular:\n",
      "            f_cos = scipy.interpolate.RectBivariateSpline(Lon, Lat, np.cos(A[i]), kx=2, ky=2, s=0)\n",
      "            f_sin = scipy.interpolate.RectBivariateSpline(Lon, Lat, np.sin(A[i]), kx=2, ky=2, s=0)\n",
      "            result = np.arctan2(f_sin(lon_i, lat_i), f_cos(lon_i, lat_i))\n",
      "        else:\n",
      "            f = scipy.interpolate.RectBivariateSpline(Lon, Lat, A[i], kx=2, ky=2, s=0)\n",
      "            result = f(lon_i, lat_i)\n",
      "        results.append(result.squeeze())\n",
      "    return np.asarray(results)\n"
     ],
     "language": "python",
     "metadata": {},
     "outputs": [],
     "prompt_number": 54
    },
    {
     "cell_type": "code",
     "collapsed": false,
     "input": [
      "def predict(location, dates=None, nodal=True):\n",
      "    \"\"\"\n",
      "    Predict the tide for a location for 1 or more dates\n",
      "    \"\"\"\n",
      "    if dates is None:\n",
      "        dates = [datetime.datetime.now()]\n",
      "    T = openearthtools.physics.tide.nodalconstituents(dates)\n",
      "    T = {key.upper(): T[key] for key in T}\n",
      "    T = pandas.DataFrame.from_dict(T, orient='index')\n",
      "    # julian days\n",
      "    jd = openearthtools.physics.tide.dates2jd(dates)\n",
      "    jh = jd * 24.0\n",
      "\n",
      "    total = 0\n",
      "    for const, row in location.iterrows():\n",
      "        phase, ampl = row['phase'], row['amplitude']\n",
      "        if nodal:\n",
      "            component = ampl*T['FF'][const]*np.cos(T['ospeed'][const]*jh - (deg2rad(phase) - deg2rad(T['VAU'][const])))\n",
      "        else:\n",
      "            component = ampl*np.cos(T['ospeed'][const]*jh - deg2rad(phase))\n",
      "        total = total + component\n",
      "    return total\n",
      "\n",
      "def make_location(lon_i, lat_i, lon, lat, A, Phi, constituents):\n",
      "    \"\"\"create a dataframe for a location with the tidal information\"\"\"\n",
      "    amplitudes = interpolate_window(lon_i, lat_i, lon, lat, A, circular=False)\n",
      "    phases = interpolate_window(lon_i, lat_i, lon, lat, Phi, circular=True)\n",
      "    locationdf = pandas.DataFrame(data=dict(amplitude=amplitudes, phase=phases), index=constituents)\n",
      "    return locationdf\n"
     ],
     "language": "python",
     "metadata": {},
     "outputs": [],
     "prompt_number": 55
    },
    {
     "cell_type": "code",
     "collapsed": false,
     "input": [
      "# amplitude/phases\n",
      "ds = netCDF4.Dataset('http://opendap.deltares.nl/thredds/dodsC/opendap/osu/tpxo/h_tpxo7.2.nc')\n",
      "\n"
     ],
     "language": "python",
     "metadata": {},
     "outputs": [],
     "prompt_number": 56
    },
    {
     "cell_type": "code",
     "collapsed": false,
     "input": [
      "\n",
      "const = netCDF4.chartostring(ds.variables['con'][:]) # the same as for u\n",
      "constituents = [x.strip().upper() for x in const]\n",
      "# we only need the first row and column\n",
      "lon = ds.variables['lon_z'][:,0]\n",
      "# loop longitude around\n",
      "lon = np.r_[lon, lon + 360]\n",
      "lat = ds.variables['lat_z'][0,:]\n",
      "# for indexing assume sorted\n",
      "\n",
      "assert((sorted(lon) == lon).all())\n",
      "assert((sorted(lat) == lat).all())\n"
     ],
     "language": "python",
     "metadata": {},
     "outputs": [],
     "prompt_number": 58
    },
    {
     "cell_type": "code",
     "collapsed": false,
     "input": [
      "lon_i = 4.766667\n",
      "lat_i = 52.958333\n",
      "A = ds.variables['ha']\n",
      "Phi = ds.variables['hp']\n",
      "location = make_location(lon_i, lat_i, lon, lat, A, Phi, constituents)\n",
      "dates = [datetime.datetime(2013,7,7,0,0, tzinfo=pytz.utc) + datetime.timedelta(minutes=i) for i in range(60*24*2)]\n",
      "fig, ax = plt.subplots(1,1)\n",
      "ax.plot(dates, predict(location, dates=dates, nodal=False))\n",
      "ax.plot(dates, predict(location, dates=dates, nodal=True))\n",
      "ams = pytz.timezone('Europe/Amsterdam')\n",
      "locator = matplotlib.dates.HourLocator(interval=12)\n",
      "ax.xaxis.set_major_locator(locator)\n",
      "ax.xaxis.set_minor_locator(matplotlib.dates.HourLocator())\n",
      "ax.xaxis.set_major_formatter(matplotlib.dates.AutoDateFormatter(locator=locator))\n",
      "ax.set_xlabel(\"hours in utc\")\n"
     ],
     "language": "python",
     "metadata": {},
     "outputs": [
      {
       "metadata": {},
       "output_type": "pyout",
       "prompt_number": 59,
       "text": [
        "<matplotlib.text.Text at 0x1140ea0d0>"
       ]
      },
      {
       "metadata": {},
       "output_type": "display_data",
       "png": "[encoded data removed]",
       "text": [
        "<matplotlib.figure.Figure at 0x1121a1d10>"
       ]
      }
     ],
     "prompt_number": 59
    },
    {
     "cell_type": "code",
     "collapsed": false,
     "input": [
      "import shapely.geometry\n",
      "import shapely.wkt\n",
      "geom = shapely.wkt.load(open('coordinates.txt'))\n",
      "\n",
      "\n",
      "# convert geometry to multipoint\n",
      "points = shapely.geometry.MultiPoint(geom.coords)\n",
      "\n",
      "# lookup bounds\n",
      "lon_min, lat_min, lon_max, lat_max = points.bounds\n",
      "\n",
      "# expand for interpolation\n",
      "window = 4\n",
      "# lon can be < 0, use modulus\n",
      "lon_min = (lon_min - window) % 360\n",
      "lon_max = (lon_max + window) % 360\n",
      "if lon_max < lon_min:\n",
      "    lon_max += 360\n",
      "\n",
      "# lookup the indices in the wrapped array\n",
      "lon_min_idx = bisect.bisect(lon, lon_min) - window\n",
      "lon_max_idx = bisect.bisect(lon, lon_max) + window\n",
      "\n",
      "# lookup lats\n",
      "lat_min_idx = bisect.bisect(lat, lat_min) - window\n",
      "lat_max_idx = bisect.bisect(lat, lat_max) + window\n",
      "\n",
      "lon_min_idx, lon_max_idx, lat_min_idx, lat_max_idx, lon.shape, lat.shape\n"
     ],
     "language": "python",
     "metadata": {},
     "outputs": [
      {
       "metadata": {},
       "output_type": "pyout",
       "prompt_number": 60,
       "text": [
        "(1418, 1465, 555, 567, (2880,), (721,))"
       ]
      }
     ],
     "prompt_number": 60
    },
    {
     "cell_type": "code",
     "collapsed": false,
     "input": [],
     "language": "python",
     "metadata": {},
     "outputs": [],
     "prompt_number": 60
    },
    {
     "cell_type": "code",
     "collapsed": false,
     "input": [
      "\n",
      "arr = A\n",
      "lonslice = slice(lon_min_idx, lon_max_idx)\n",
      "latslice = slice(lat_min_idx, lat_max_idx)\n",
      "Lat = lat[latslice]\n",
      "Lon = lon[lonslice]\n",
      "\n",
      "if lon_max_idx > arr.shape[1]:\n",
      "    # first part\n",
      "    arrs = [\n",
      "        arr[:, lon_min_idx:arr.shape[1]+1, latslice],\n",
      "        arr[:, 0:(lon_max_idx % arr.shape[1]) , latslice]\n",
      "    ]\n",
      "    arr = np.concatenate(arrs, axis=1)\n",
      "else:\n",
      "    arr = arr[:,lonslice, latslice]\n",
      "\n",
      "arr.shape, Lon.shape, Lat.shape"
     ],
     "language": "python",
     "metadata": {},
     "outputs": [
      {
       "metadata": {},
       "output_type": "pyout",
       "prompt_number": 63,
       "text": [
        "((13, 47, 12), (47,), (12,))"
       ]
      }
     ],
     "prompt_number": 63
    },
    {
     "cell_type": "code",
     "collapsed": false,
     "input": [
      "xy = pandas.DataFrame(np.array(points), columns=['lon', 'lat'])\n",
      "xy['lon'] %= 360\n",
      "xy = xy.sort(['lon', 'lat'])\n",
      "xy.head()"
     ],
     "language": "python",
     "metadata": {},
     "outputs": [
      {
       "html": [
        "<div style=\"max-height:1000px;max-width:1500px;overflow:auto;\">\n",
        "<table border=\"1\" class=\"dataframe\">\n",
        "  <thead>\n",
        "    <tr style=\"text-align: right;\">\n",
        "      <th></th>\n",
        "      <th>lon</th>\n",
        "      <th>lat</th>\n",
        "    </tr>\n",
        "  </thead>\n",
        "  <tbody>\n",
        "    <tr>\n",
        "      <th>12</th>\n",
        "      <td> 0</td>\n",
        "      <td> 49.740272</td>\n",
        "    </tr>\n",
        "    <tr>\n",
        "      <th>31</th>\n",
        "      <td> 0</td>\n",
        "      <td> 49.756716</td>\n",
        "    </tr>\n",
        "    <tr>\n",
        "      <th>52</th>\n",
        "      <td> 0</td>\n",
        "      <td> 49.773155</td>\n",
        "    </tr>\n",
        "    <tr>\n",
        "      <th>74</th>\n",
        "      <td> 0</td>\n",
        "      <td> 49.789587</td>\n",
        "    </tr>\n",
        "    <tr>\n",
        "      <th>97</th>\n",
        "      <td> 0</td>\n",
        "      <td> 49.806014</td>\n",
        "    </tr>\n",
        "  </tbody>\n",
        "</table>\n",
        "</div>"
       ],
       "metadata": {},
       "output_type": "pyout",
       "prompt_number": 164,
       "text": [
        "    lon        lat\n",
        "12    0  49.740272\n",
        "31    0  49.756716\n",
        "52    0  49.773155\n",
        "74    0  49.789587\n",
        "97    0  49.806014"
       ]
      }
     ],
     "prompt_number": 164
    },
    {
     "cell_type": "code",
     "collapsed": false,
     "input": [
      "ampl =  []\n",
      "for i in range(A.shape[0]):\n",
      "    f = scipy.interpolate.RectBivariateSpline(Lon, Lat, arr[0].squeeze(), kx=2, ky=2, s=0)\n",
      "    f.ev(xy['lon'], xy['lat'])\n",
      "\n",
      "f.ev(xy['lon'], xy['lat'])\n"
     ],
     "language": "python",
     "metadata": {},
     "outputs": [
      {
       "metadata": {},
       "output_type": "pyout",
       "prompt_number": 174,
       "text": [
        "array([ 1.76363885,  1.77278755,  1.78447549, ...,  2.64448707,\n",
        "        2.64929895,  2.63500672])"
       ]
      }
     ],
     "prompt_number": 174
    },
    {
     "cell_type": "code",
     "collapsed": false,
     "input": [
      "results = []\n",
      "\n",
      "circular = False\n",
      "for i in range(A.shape[0]):\n",
      "    if circular:\n",
      "        f_cos = scipy.interpolate.RectBivariateSpline(Lon, Lat, np.cos(arr[i]), kx=2, ky=2, s=0)\n",
      "        f_sin = scipy.interpolate.RectBivariateSpline(Lon, Lat, np.sin(arr[i]), kx=2, ky=2, s=0)\n",
      "        result = np.arctan2(f_sin(lon_i, lat_i), f_cos(lon_i, lat_i))\n",
      "    else:\n",
      "        f = scipy.interpolate.RectBivariateSpline(Lon, Lat, A[i], kx=2, ky=2, s=0)\n",
      "        result = f(lon_i, lat_i)\n",
      "    results.append(result.squeeze())"
     ],
     "language": "python",
     "metadata": {},
     "outputs": [
      {
       "ename": "TypeError",
       "evalue": "x dimension of z must have same number of elements as x",
       "output_type": "pyerr",
       "traceback": [
        "\u001b[0;31m---------------------------------------------------------------------------\u001b[0m\n\u001b[0;31mTypeError\u001b[0m                                 Traceback (most recent call last)",
        "\u001b[0;32m<ipython-input-98-a54eb36e10f4>\u001b[0m in \u001b[0;36m<module>\u001b[0;34m()\u001b[0m\n\u001b[1;32m      8\u001b[0m         \u001b[0mresult\u001b[0m \u001b[0;34m=\u001b[0m \u001b[0mnp\u001b[0m\u001b[0;34m.\u001b[0m\u001b[0marctan2\u001b[0m\u001b[0;34m(\u001b[0m\u001b[0mf_sin\u001b[0m\u001b[0;34m(\u001b[0m\u001b[0mlon_i\u001b[0m\u001b[0;34m,\u001b[0m \u001b[0mlat_i\u001b[0m\u001b[0;34m)\u001b[0m\u001b[0;34m,\u001b[0m \u001b[0mf_cos\u001b[0m\u001b[0;34m(\u001b[0m\u001b[0mlon_i\u001b[0m\u001b[0;34m,\u001b[0m \u001b[0mlat_i\u001b[0m\u001b[0;34m)\u001b[0m\u001b[0;34m)\u001b[0m\u001b[0;34m\u001b[0m\u001b[0m\n\u001b[1;32m      9\u001b[0m     \u001b[0;32melse\u001b[0m\u001b[0;34m:\u001b[0m\u001b[0;34m\u001b[0m\u001b[0m\n\u001b[0;32m---> 10\u001b[0;31m         \u001b[0mf\u001b[0m \u001b[0;34m=\u001b[0m \u001b[0mscipy\u001b[0m\u001b[0;34m.\u001b[0m\u001b[0minterpolate\u001b[0m\u001b[0;34m.\u001b[0m\u001b[0mRectBivariateSpline\u001b[0m\u001b[0;34m(\u001b[0m\u001b[0mLon\u001b[0m\u001b[0;34m,\u001b[0m \u001b[0mLat\u001b[0m\u001b[0;34m,\u001b[0m \u001b[0mA\u001b[0m\u001b[0;34m[\u001b[0m\u001b[0mi\u001b[0m\u001b[0;34m]\u001b[0m\u001b[0;34m,\u001b[0m \u001b[0mkx\u001b[0m\u001b[0;34m=\u001b[0m\u001b[0;36m2\u001b[0m\u001b[0;34m,\u001b[0m \u001b[0mky\u001b[0m\u001b[0;34m=\u001b[0m\u001b[0;36m2\u001b[0m\u001b[0;34m,\u001b[0m \u001b[0ms\u001b[0m\u001b[0;34m=\u001b[0m\u001b[0;36m0\u001b[0m\u001b[0;34m)\u001b[0m\u001b[0;34m\u001b[0m\u001b[0m\n\u001b[0m\u001b[1;32m     11\u001b[0m         \u001b[0mresult\u001b[0m \u001b[0;34m=\u001b[0m \u001b[0mf\u001b[0m\u001b[0;34m(\u001b[0m\u001b[0mlon_i\u001b[0m\u001b[0;34m,\u001b[0m \u001b[0mlat_i\u001b[0m\u001b[0;34m)\u001b[0m\u001b[0;34m\u001b[0m\u001b[0m\n\u001b[1;32m     12\u001b[0m     \u001b[0mresults\u001b[0m\u001b[0;34m.\u001b[0m\u001b[0mappend\u001b[0m\u001b[0;34m(\u001b[0m\u001b[0mresult\u001b[0m\u001b[0;34m.\u001b[0m\u001b[0msqueeze\u001b[0m\u001b[0;34m(\u001b[0m\u001b[0;34m)\u001b[0m\u001b[0;34m)\u001b[0m\u001b[0;34m\u001b[0m\u001b[0m\n",
        "\u001b[0;32m/Users/baart_f/.virtualenvs/main/lib/python2.7/site-packages/scipy/interpolate/fitpack2.pyc\u001b[0m in \u001b[0;36m__init__\u001b[0;34m(self, x, y, z, bbox, kx, ky, s)\u001b[0m\n\u001b[1;32m    958\u001b[0m             \u001b[0;32mraise\u001b[0m \u001b[0mTypeError\u001b[0m\u001b[0;34m(\u001b[0m\u001b[0;34m'y must be strictly ascending'\u001b[0m\u001b[0;34m)\u001b[0m\u001b[0;34m\u001b[0m\u001b[0m\n\u001b[1;32m    959\u001b[0m         \u001b[0;32mif\u001b[0m \u001b[0;32mnot\u001b[0m \u001b[0mx\u001b[0m\u001b[0;34m.\u001b[0m\u001b[0msize\u001b[0m \u001b[0;34m==\u001b[0m \u001b[0mz\u001b[0m\u001b[0;34m.\u001b[0m\u001b[0mshape\u001b[0m\u001b[0;34m[\u001b[0m\u001b[0;36m0\u001b[0m\u001b[0;34m]\u001b[0m\u001b[0;34m:\u001b[0m\u001b[0;34m\u001b[0m\u001b[0m\n\u001b[0;32m--> 960\u001b[0;31m             raise TypeError('x dimension of z must have same number of '\n\u001b[0m\u001b[1;32m    961\u001b[0m                             'elements as x')\n\u001b[1;32m    962\u001b[0m         \u001b[0;32mif\u001b[0m \u001b[0;32mnot\u001b[0m \u001b[0my\u001b[0m\u001b[0;34m.\u001b[0m\u001b[0msize\u001b[0m \u001b[0;34m==\u001b[0m \u001b[0mz\u001b[0m\u001b[0;34m.\u001b[0m\u001b[0mshape\u001b[0m\u001b[0;34m[\u001b[0m\u001b[0;36m1\u001b[0m\u001b[0;34m]\u001b[0m\u001b[0;34m:\u001b[0m\u001b[0;34m\u001b[0m\u001b[0m\n",
        "\u001b[0;31mTypeError\u001b[0m: x dimension of z must have same number of elements as x"
       ]
      }
     ],
     "prompt_number": 98
    },
    {
     "cell_type": "code",
     "collapsed": false,
     "input": [
      "lonslice, latslice"
     ],
     "language": "python",
     "metadata": {},
     "outputs": []
    },
    {
     "cell_type": "code",
     "collapsed": false,
     "input": [],
     "language": "python",
     "metadata": {},
     "outputs": []
    },
    {
     "cell_type": "code",
     "collapsed": false,
     "input": [
      "\n"
     ],
     "language": "python",
     "metadata": {},
     "outputs": [
      {
       "metadata": {},
       "output_type": "pyout",
       "prompt_number": 152,
       "text": [
        "array([ 49.74027236,  49.74027236,  49.74027236, ...,  50.70094289,\n",
        "        50.70094289,  50.70094289])"
       ]
      }
     ],
     "prompt_number": 152
    },
    {
     "cell_type": "code",
     "collapsed": false,
     "input": [],
     "language": "python",
     "metadata": {},
     "outputs": []
    }
   ],
   "metadata": {}
  }
 ]
}